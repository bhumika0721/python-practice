{
 "cells": [
  {
   "cell_type": "code",
   "execution_count": 2,
   "id": "26afc460-d1a7-4f4a-b3a6-293acbdd3caa",
   "metadata": {},
   "outputs": [
    {
     "name": "stdout",
     "output_type": "stream",
     "text": [
      "4\n"
     ]
    },
    {
     "ename": "TypeError",
     "evalue": "'>' not supported between instances of 'str' and 'int'",
     "output_type": "error",
     "traceback": [
      "\u001b[1;31m---------------------------------------------------------------------------\u001b[0m",
      "\u001b[1;31mTypeError\u001b[0m                                 Traceback (most recent call last)",
      "Cell \u001b[1;32mIn[2], line 3\u001b[0m\n\u001b[0;32m      1\u001b[0m my_list\u001b[38;5;241m=\u001b[39m[\u001b[38;5;241m10\u001b[39m,\u001b[38;5;241m20\u001b[39m,\u001b[38;5;241m30\u001b[39m,\u001b[38;5;124m'\u001b[39m\u001b[38;5;124mbhumika\u001b[39m\u001b[38;5;124m'\u001b[39m]\n\u001b[0;32m      2\u001b[0m \u001b[38;5;28mprint\u001b[39m(\u001b[38;5;28mlen\u001b[39m(my_list))\n\u001b[1;32m----> 3\u001b[0m \u001b[38;5;28mprint\u001b[39m (\u001b[38;5;28mmax\u001b[39m(my_list))\n",
      "\u001b[1;31mTypeError\u001b[0m: '>' not supported between instances of 'str' and 'int'"
     ]
    }
   ],
   "source": [
    "my_list=[10,20,30,'bhumika']\n",
    "print(len(my_list))\n",
    "print (max(my_list))"
   ]
  },
  {
   "cell_type": "code",
   "execution_count": 4,
   "id": "0a22f2be-14f0-4f63-b8c7-1fa815234f4a",
   "metadata": {},
   "outputs": [
    {
     "name": "stdout",
     "output_type": "stream",
     "text": [
      "30\n"
     ]
    }
   ],
   "source": [
    "my_list=[10,20,30]\n",
    "print(max(my_list))"
   ]
  },
  {
   "cell_type": "code",
   "execution_count": 5,
   "id": "873dcfb4-abd5-4611-ae71-9303abd108aa",
   "metadata": {},
   "outputs": [
    {
     "name": "stdout",
     "output_type": "stream",
     "text": [
      "riya\n"
     ]
    }
   ],
   "source": [
    "my_list=['bhumi','bhumika','priya','riya']\n",
    "print(max(my_list))"
   ]
  },
  {
   "cell_type": "code",
   "execution_count": 6,
   "id": "6fcc7ca9-aedd-4fbb-ae82-ff619e514387",
   "metadata": {},
   "outputs": [
    {
     "name": "stdout",
     "output_type": "stream",
     "text": [
      "bhumika\n"
     ]
    }
   ],
   "source": [
    "my_list=['bhumika','nea','kanak']\n",
    "print(min(my_list))"
   ]
  },
  {
   "cell_type": "code",
   "execution_count": 8,
   "id": "315155cd-09b9-49d4-a3ef-97ced82911f1",
   "metadata": {},
   "outputs": [
    {
     "name": "stdout",
     "output_type": "stream",
     "text": [
      "<class 'list'>\n",
      "2748344937600\n"
     ]
    }
   ],
   "source": [
    "my_list=[10,20,30,'bhumika']\n",
    "print(type(my_list))\n",
    "print(id(my_list))"
   ]
  },
  {
   "cell_type": "code",
   "execution_count": 9,
   "id": "1a4f664d-fddb-4213-8a4b-a9bfe28b9de7",
   "metadata": {},
   "outputs": [
    {
     "name": "stdout",
     "output_type": "stream",
     "text": [
      "[10, 20, 30, 'bhumi', 50]\n"
     ]
    }
   ],
   "source": [
    "my_list=[10,20,30,'bhumi']\n",
    "my_list.append(50)\n",
    "print (my_list)"
   ]
  },
  {
   "cell_type": "code",
   "execution_count": 10,
   "id": "e4d66fc0-bd8b-493c-9abc-f6e361687c1e",
   "metadata": {},
   "outputs": [
    {
     "name": "stdout",
     "output_type": "stream",
     "text": [
      "[10, 20, 30, 'bhumi', 'kanak']\n"
     ]
    }
   ],
   "source": [
    "my_list=[10,20,30,'bhumi']\n",
    "my_list.append('kanak')\n",
    "print (my_list)"
   ]
  },
  {
   "cell_type": "code",
   "execution_count": 15,
   "id": "f5efdc81-3ddb-442c-8b40-4d8c0ee1a362",
   "metadata": {},
   "outputs": [
    {
     "name": "stdout",
     "output_type": "stream",
     "text": [
      "[10, 20, 30, 'bhumi', 50, 40, 30, 10]\n"
     ]
    }
   ],
   "source": [
    "my_list=[10,20,30,'bhumi']\n",
    "my_list.extend([50 ,40,30,10])\n",
    "print (my_list)"
   ]
  },
  {
   "cell_type": "code",
   "execution_count": null,
   "id": "ee105921-d82d-43f9-8980-f9cf9cab9cb6",
   "metadata": {},
   "outputs": [],
   "source": [
    "my_list=[10,20,30,'bhumi']\n",
    "my_list.insert(0,[50,30,40,'bhumi'])\n",
    "print (my_list)\n"
   ]
  },
  {
   "cell_type": "code",
   "execution_count": 1,
   "id": "cb1ef4bc-3c86-4791-8d75-f9aa6197a7c5",
   "metadata": {},
   "outputs": [
    {
     "name": "stdout",
     "output_type": "stream",
     "text": [
      "[]\n"
     ]
    }
   ],
   "source": [
    "my_list=[10,20,30,'bhumi']\n",
    "(my_list.clear())\n",
    "print(my_list)"
   ]
  },
  {
   "cell_type": "code",
   "execution_count": 2,
   "id": "728a7424-e947-4c1a-9e98-5b47aa70b8da",
   "metadata": {},
   "outputs": [
    {
     "name": "stdout",
     "output_type": "stream",
     "text": [
      "[10, 20, 30]\n"
     ]
    }
   ],
   "source": [
    "my_list=[10,20,30,'bhumi']\n",
    "(my_list.pop())\n",
    "print(my_list)"
   ]
  },
  {
   "cell_type": "code",
   "execution_count": 3,
   "id": "5c2c03da-dd4a-4f81-b923-88d9b27aa349",
   "metadata": {},
   "outputs": [
    {
     "name": "stdout",
     "output_type": "stream",
     "text": [
      "[10, 30, 'bhumi']\n"
     ]
    }
   ],
   "source": [
    "my_list=[10,20,30,'bhumi']\n",
    "(my_list.remove(20))\n",
    "print(my_list)"
   ]
  },
  {
   "cell_type": "code",
   "execution_count": 5,
   "id": "7d8f5737-9419-4fba-9326-e73a990158ab",
   "metadata": {},
   "outputs": [
    {
     "name": "stdout",
     "output_type": "stream",
     "text": [
      "[10, 20, 30]\n"
     ]
    }
   ],
   "source": [
    "my_list=[10,20,30,'bhumi']\n",
    "(my_list.remove('bhumi'))\n",
    "print(my_list)"
   ]
  },
  {
   "cell_type": "code",
   "execution_count": 6,
   "id": "743dec01-8fa5-4603-9baa-9bcee9301cd6",
   "metadata": {},
   "outputs": [
    {
     "name": "stdout",
     "output_type": "stream",
     "text": [
      "[10, 20, 30, 'bhumi', 10, 20, 30, 'bhumi', 10, 20, 30, 'bhumi']\n"
     ]
    }
   ],
   "source": [
    "my_list=[10,20,30,'bhumi',10,20,30,'bhumi',10,20,30,'bhumi']\n",
    "(my_list.index(20))\n",
    "print(my_list)"
   ]
  },
  {
   "cell_type": "code",
   "execution_count": 7,
   "id": "fdde9e57-7d72-453f-99c6-f69ca048bd52",
   "metadata": {},
   "outputs": [
    {
     "data": {
      "text/plain": [
       "1"
      ]
     },
     "execution_count": 7,
     "metadata": {},
     "output_type": "execute_result"
    }
   ],
   "source": [
    "my_list=[10,20,30,'bhumi',10,20,30,'bhumi',10,20,30,'bhumi']\n",
    "(my_list.index(20))"
   ]
  },
  {
   "cell_type": "code",
   "execution_count": 6,
   "id": "1a0998c4-4cfb-4c6e-be07-e9acff33cd05",
   "metadata": {},
   "outputs": [
    {
     "data": {
      "text/plain": [
       "5"
      ]
     },
     "execution_count": 6,
     "metadata": {},
     "output_type": "execute_result"
    }
   ],
   "source": [
    "my_list1=[10,20,30,'bhumi',10,20,30,'bhumi',10,20,30,'bhumi']\n",
    "(my_list1.index(20,2))"
   ]
  },
  {
   "cell_type": "code",
   "execution_count": 7,
   "id": "c87da1aa-1f3c-4150-a300-a19457e7c45d",
   "metadata": {},
   "outputs": [
    {
     "name": "stdout",
     "output_type": "stream",
     "text": [
      "[10, 20, 30, 40, 50]\n",
      "1732557612416\n",
      "[10, 20, 30, 40, 50]\n",
      "1732557562752\n"
     ]
    }
   ],
   "source": [
    "my_list=[10,20,30,40,50]\n",
    "y=my_list.copy()\n",
    "print(y)\n",
    "print(id(y))\n",
    "print(my_list)\n",
    "print (id(my_list))"
   ]
  },
  {
   "cell_type": "code",
   "execution_count": 8,
   "id": "152648f4-daa0-4725-bc36-7932716ed526",
   "metadata": {},
   "outputs": [
    {
     "name": "stdout",
     "output_type": "stream",
     "text": [
      "[10, 20, 20, 30, 40, 50, 60, 70, 90]\n"
     ]
    }
   ],
   "source": [
    "#asc order\n",
    "my_list=[10,20,60,70,90,30,50,20,40]\n",
    "(my_list.sort())\n",
    "print (my_list)"
   ]
  },
  {
   "cell_type": "code",
   "execution_count": 10,
   "id": "b5b1e74c-83b9-4eaa-a032-c1529a131914",
   "metadata": {},
   "outputs": [
    {
     "name": "stdout",
     "output_type": "stream",
     "text": [
      "[40, 20, 50, 30, 90, 70, 60, 20, 10]\n"
     ]
    }
   ],
   "source": [
    "my_list=[10,20,60,70,90,30,50,20,40]\n",
    "my_list.reverse()\n",
    "print (my_list)"
   ]
  },
  {
   "cell_type": "code",
   "execution_count": 11,
   "id": "d6dfb49c-ef9c-4ef8-ba0d-b51575f05924",
   "metadata": {},
   "outputs": [
    {
     "name": "stdout",
     "output_type": "stream",
     "text": [
      "[90, 70, 60, 50, 40, 30, 20, 20, 10]\n"
     ]
    }
   ],
   "source": [
    "my_list=[10,20,60,70,90,30,50,20,40]\n",
    "(my_list.sort())\n",
    "my_list.reverse()\n",
    "print (my_list)"
   ]
  },
  {
   "cell_type": "code",
   "execution_count": 14,
   "id": "536e2f72-8d2f-48cb-b2d4-8511e916af6d",
   "metadata": {},
   "outputs": [
    {
     "name": "stdout",
     "output_type": "stream",
     "text": [
      "[90, 70, 60, 50, 40, 30, 20, 20, 10]\n"
     ]
    }
   ],
   "source": [
    "#desc order create own method\n",
    "my_list=[10,20,60,70,90,30,50,20,40]\n",
    "(my_list.sort(reverse= True))\n",
    "print (my_list)"
   ]
  },
  {
   "cell_type": "code",
   "execution_count": 16,
   "id": "237c2981-b033-49b0-ba72-48e675c8c108",
   "metadata": {},
   "outputs": [
    {
     "ename": "NameError",
     "evalue": "name 'my_list' is not defined",
     "output_type": "error",
     "traceback": [
      "\u001b[1;31m---------------------------------------------------------------------------\u001b[0m",
      "\u001b[1;31mNameError\u001b[0m                                 Traceback (most recent call last)",
      "Cell \u001b[1;32mIn[16], line 4\u001b[0m\n\u001b[0;32m      2\u001b[0m my_list\u001b[38;5;241m.\u001b[39mclear()\n\u001b[0;32m      3\u001b[0m \u001b[38;5;28;01mdel\u001b[39;00m my_list\n\u001b[1;32m----> 4\u001b[0m \u001b[38;5;28mprint\u001b[39m(my_list)\n",
      "\u001b[1;31mNameError\u001b[0m: name 'my_list' is not defined"
     ]
    }
   ],
   "source": [
    "my_list=[10,20,30,40]\n",
    "my_list.clear()\n",
    "del my_list\n",
    "print(my_list)"
   ]
  },
  {
   "cell_type": "code",
   "execution_count": 17,
   "id": "29f9addc-0808-4402-82d1-a80a2afaba20",
   "metadata": {},
   "outputs": [
    {
     "ename": "NameError",
     "evalue": "name 'my_list' is not defined",
     "output_type": "error",
     "traceback": [
      "\u001b[1;31m---------------------------------------------------------------------------\u001b[0m",
      "\u001b[1;31mNameError\u001b[0m                                 Traceback (most recent call last)",
      "Cell \u001b[1;32mIn[17], line 4\u001b[0m\n\u001b[0;32m      2\u001b[0m \u001b[38;5;66;03m# my_list.clear()\u001b[39;00m\n\u001b[0;32m      3\u001b[0m \u001b[38;5;28;01mdel\u001b[39;00m my_list\n\u001b[1;32m----> 4\u001b[0m \u001b[38;5;28mprint\u001b[39m(my_list)\n",
      "\u001b[1;31mNameError\u001b[0m: name 'my_list' is not defined"
     ]
    }
   ],
   "source": [
    "my_list=[10,20,30,40]\n",
    "# my_list.clear()\n",
    "del my_list\n",
    "print(my_list)"
   ]
  },
  {
   "cell_type": "code",
   "execution_count": 1,
   "id": "8823226d-6c57-41a0-acfc-37ff9d99e0fe",
   "metadata": {},
   "outputs": [
    {
     "name": "stdout",
     "output_type": "stream",
     "text": [
      "6\n"
     ]
    },
    {
     "ename": "ValueError",
     "evalue": "10 is not in list",
     "output_type": "error",
     "traceback": [
      "\u001b[1;31m---------------------------------------------------------------------------\u001b[0m",
      "\u001b[1;31mValueError\u001b[0m                                Traceback (most recent call last)",
      "Cell \u001b[1;32mIn[1], line 4\u001b[0m\n\u001b[0;32m      2\u001b[0m my_list\u001b[38;5;241m.\u001b[39m index(\u001b[38;5;241m10\u001b[39m)\n\u001b[0;32m      3\u001b[0m \u001b[38;5;28mprint\u001b[39m(my_list\u001b[38;5;241m.\u001b[39mindex(\u001b[38;5;241m10\u001b[39m,\u001b[38;5;241m4\u001b[39m))\n\u001b[1;32m----> 4\u001b[0m \u001b[38;5;28mprint\u001b[39m(my_list\u001b[38;5;241m.\u001b[39mindex(\u001b[38;5;241m10\u001b[39m,\u001b[38;5;241m2\u001b[39m,\u001b[38;5;241m6\u001b[39m))\n",
      "\u001b[1;31mValueError\u001b[0m: 10 is not in list"
     ]
    }
   ],
   "source": [
    "my_list =[10,20,30,40,50,60,10,20,10]\n",
    "my_list. index(10)\n",
    "print(my_list.index(10,4))\n",
    "print(my_list.index(10,2,6))"
   ]
  },
  {
   "cell_type": "code",
   "execution_count": 4,
   "id": "2f8b17a8-75fb-420b-84e9-3e82ca219e8e",
   "metadata": {},
   "outputs": [
    {
     "name": "stdout",
     "output_type": "stream",
     "text": [
      "[]\n",
      "56\n"
     ]
    }
   ],
   "source": [
    "import sys\n",
    "my_list=list()\n",
    "print (my_list)\n",
    "print(sys.getsizeof(my_list))"
   ]
  },
  {
   "cell_type": "code",
   "execution_count": 5,
   "id": "582bf5e3-86ac-4740-86c8-3305fc9c10be",
   "metadata": {},
   "outputs": [
    {
     "name": "stdout",
     "output_type": "stream",
     "text": [
      "(10, 20, 30, 'bhumi')\n"
     ]
    }
   ],
   "source": [
    "# tuple:---------\n",
    "my_tuple=(10,20,30,'bhumi')\n",
    "print(my_tuple)"
   ]
  },
  {
   "cell_type": "code",
   "execution_count": 6,
   "id": "ed011f54-ec4b-4902-ad08-59c583a5fe63",
   "metadata": {},
   "outputs": [
    {
     "name": "stdout",
     "output_type": "stream",
     "text": [
      "72\n",
      "88\n"
     ]
    }
   ],
   "source": [
    "import sys\n",
    "my_tuple=(10,20,30,'bhumi')\n",
    "my_list=[10,20,30,'bhumi']\n",
    "print(sys.getsizeof(my_tuple))\n",
    "print(sys.getsizeof(my_list))"
   ]
  },
  {
   "cell_type": "code",
   "execution_count": 9,
   "id": "d79cebe4-d554-40ff-a7db-739e7ce9b39f",
   "metadata": {},
   "outputs": [
    {
     "name": "stdout",
     "output_type": "stream",
     "text": [
      "4\n",
      "<class 'tuple'>\n",
      "1984193969376\n"
     ]
    }
   ],
   "source": [
    "my_tuple=(10,20,30,'bhumi')\n",
    "print(len(my_tuple))\n",
    "print(type(my_tuple))\n",
    "print(id(my_tuple))"
   ]
  },
  {
   "cell_type": "code",
   "execution_count": 10,
   "id": "3cbf4ae0-32e5-478d-8f21-0648d8aef270",
   "metadata": {},
   "outputs": [
    {
     "name": "stdout",
     "output_type": "stream",
     "text": [
      "priya\n"
     ]
    }
   ],
   "source": [
    "myt=('bhumi','priya','kanak','jagriti')\n",
    "print(max(myt))"
   ]
  },
  {
   "cell_type": "code",
   "execution_count": 11,
   "id": "e169be3a-59ae-4715-8a74-d1dbf5f60967",
   "metadata": {},
   "outputs": [
    {
     "name": "stdout",
     "output_type": "stream",
     "text": [
      "bhumi\n"
     ]
    }
   ],
   "source": [
    "myt=('bhumi','priya','kanak','jagriti')\n",
    "print(min(myt))"
   ]
  },
  {
   "cell_type": "code",
   "execution_count": 12,
   "id": "411c3a78-71bf-45f7-b0fe-4fe8441c1cf0",
   "metadata": {},
   "outputs": [
    {
     "name": "stdout",
     "output_type": "stream",
     "text": [
      "()\n",
      "40\n"
     ]
    }
   ],
   "source": [
    "import sys\n",
    "x=tuple()\n",
    "print(x)\n",
    "print(sys.getsizeof(x))"
   ]
  },
  {
   "cell_type": "code",
   "execution_count": 13,
   "id": "6a6f465d-59b9-4c11-a49b-b01d420cb733",
   "metadata": {},
   "outputs": [
    {
     "name": "stdout",
     "output_type": "stream",
     "text": [
      "3\n"
     ]
    }
   ],
   "source": [
    "myt=('bhumi','priya','jay','bhumi','bhumi')\n",
    "print(myt.count('bhumi'))"
   ]
  },
  {
   "cell_type": "code",
   "execution_count": 14,
   "id": "9e1f0e20-40bd-4f4b-8a0e-e231b29f3e91",
   "metadata": {},
   "outputs": [
    {
     "name": "stdout",
     "output_type": "stream",
     "text": [
      "0\n"
     ]
    }
   ],
   "source": [
    "myt=('bhumi','priya','jay','bhumi','bhumi')\n",
    "print(myt.index('bhumi'))"
   ]
  },
  {
   "cell_type": "code",
   "execution_count": 16,
   "id": "1d4ca662-8f37-4970-945a-f604f6785f2b",
   "metadata": {},
   "outputs": [
    {
     "name": "stdout",
     "output_type": "stream",
     "text": [
      "3\n"
     ]
    }
   ],
   "source": [
    "myt=('bhumi','priya','jay','bhumi','bhumi')\n",
    "print(myt.index('bhumi',3))"
   ]
  },
  {
   "cell_type": "code",
   "execution_count": null,
   "id": "659b5ebe-1ca4-4377-8c33-6a970c9df69f",
   "metadata": {},
   "outputs": [],
   "source": []
  }
 ],
 "metadata": {
  "kernelspec": {
   "display_name": "Python 3 (ipykernel)",
   "language": "python",
   "name": "python3"
  },
  "language_info": {
   "codemirror_mode": {
    "name": "ipython",
    "version": 3
   },
   "file_extension": ".py",
   "mimetype": "text/x-python",
   "name": "python",
   "nbconvert_exporter": "python",
   "pygments_lexer": "ipython3",
   "version": "3.12.7"
  }
 },
 "nbformat": 4,
 "nbformat_minor": 5
}
