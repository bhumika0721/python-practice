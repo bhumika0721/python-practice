{
 "cells": [
  {
   "cell_type": "code",
   "execution_count": 2,
   "id": "1abba7af-9e60-4e3a-83a0-b73922f4cc27",
   "metadata": {},
   "outputs": [
    {
     "name": "stdout",
     "output_type": "stream",
     "text": [
      "{'priya', 'rahul', 20, 40, 10, 'bhumi'}\n"
     ]
    }
   ],
   "source": [
    "my_set={10,20,'bhumi','priya',10,40,'rahul'}\n",
    "print (my_set)"
   ]
  },
  {
   "cell_type": "code",
   "execution_count": 3,
   "id": "1a981f63-512d-4433-ac5a-abe53c3031b5",
   "metadata": {},
   "outputs": [
    {
     "name": "stdout",
     "output_type": "stream",
     "text": [
      "{40, 10, 20, 30}\n",
      "<class 'set'>\n"
     ]
    }
   ],
   "source": [
    "set1={10,20,30,40}\n",
    "print(set1)\n",
    "print(type(set1))"
   ]
  },
  {
   "cell_type": "code",
   "execution_count": 4,
   "id": "60bffc2a-15f8-4eba-aebd-31a255be5c5a",
   "metadata": {},
   "outputs": [
    {
     "name": "stdout",
     "output_type": "stream",
     "text": [
      "{40, 10, 20, 30}\n",
      "40\n"
     ]
    }
   ],
   "source": [
    "set1={10,20,30,40}\n",
    "print(set1)\n",
    "print(max(set1))"
   ]
  },
  {
   "cell_type": "code",
   "execution_count": 5,
   "id": "a18028f4-1c10-4434-890d-7109ae3973a2",
   "metadata": {},
   "outputs": [
    {
     "name": "stdout",
     "output_type": "stream",
     "text": [
      "{40, 10, 20, 30}\n",
      "10\n"
     ]
    }
   ],
   "source": [
    "set1={10,20,30,40}\n",
    "print(set1)\n",
    "print(min(set1))"
   ]
  },
  {
   "cell_type": "code",
   "execution_count": 6,
   "id": "504f4ebf-2aba-4637-a801-ab5ab18168a1",
   "metadata": {},
   "outputs": [
    {
     "name": "stdout",
     "output_type": "stream",
     "text": [
      "{40, 10, 20, 30}\n",
      "2001558787616\n"
     ]
    }
   ],
   "source": [
    "set1={10,20,30,40}\n",
    "print(set1)\n",
    "print(id(set1))"
   ]
  },
  {
   "cell_type": "code",
   "execution_count": 10,
   "id": "90f1ed14-90ff-4cc3-8424-9cebbd08576a",
   "metadata": {},
   "outputs": [
    {
     "name": "stdout",
     "output_type": "stream",
     "text": [
      "set()\n"
     ]
    }
   ],
   "source": []
  },
  {
   "cell_type": "code",
   "execution_count": 17,
   "id": "36c6315a-05ef-45c9-98e7-d712d26eb51a",
   "metadata": {},
   "outputs": [
    {
     "name": "stdout",
     "output_type": "stream",
     "text": [
      "{40, 10, 20, 30}\n",
      "set()\n",
      "2001558787392\n",
      "2001558786048\n"
     ]
    }
   ],
   "source": [
    "# method\n",
    "set1={10,20,30,40}  \n",
    "set1.copy()\n",
    "print(set1)\n",
    "print(set2)\n",
    "print(id(set1))\n",
    "print(id(set2))"
   ]
  },
  {
   "cell_type": "code",
   "execution_count": 15,
   "id": "fb96650a-7e6b-438d-9de5-fd3d4ca14cad",
   "metadata": {},
   "outputs": [
    {
     "name": "stdout",
     "output_type": "stream",
     "text": [
      "None\n",
      "set()\n"
     ]
    }
   ],
   "source": [
    "set1={10,20,30,40}\n",
    "set1.clear()\n",
    "print(set1)"
   ]
  },
  {
   "cell_type": "code",
   "execution_count": 19,
   "id": "5d6e8ed9-be54-49b2-baf4-bfd79264ab84",
   "metadata": {},
   "outputs": [
    {
     "name": "stdout",
     "output_type": "stream",
     "text": [
      "{40, 10, 'priya', 20, 30}\n"
     ]
    }
   ],
   "source": [
    "set1={10,20,30,40}\n",
    "set1.add('priya')\n",
    "print(set1)"
   ]
  },
  {
   "cell_type": "code",
   "execution_count": 22,
   "id": "fda506f1-940f-4655-aadd-dec3950e67ba",
   "metadata": {},
   "outputs": [
    {
     "name": "stdout",
     "output_type": "stream",
     "text": [
      "{'h', 40, 'b', 10, 'u', 'm', 20, 'k', 'i', 'a', 30}\n"
     ]
    }
   ],
   "source": [
    "# update method\n",
    "set1={10,20,30,40}\n",
    "str1='bhumika'\n",
    "set1.update(str1)\n",
    "print(set1)"
   ]
  },
  {
   "cell_type": "code",
   "execution_count": 23,
   "id": "b57a6c7e-2c01-4248-81bb-95399cd16e60",
   "metadata": {},
   "outputs": [
    {
     "name": "stdout",
     "output_type": "stream",
     "text": [
      "{40, 10, 'kanak', 'priya', 'bhumika', 20, 30}\n"
     ]
    }
   ],
   "source": [
    "set1={10,20,30,40}\n",
    "str1=['priya','kanak','bhumika']\n",
    "set1.update(str1)\n",
    "print(set1)"
   ]
  },
  {
   "cell_type": "code",
   "execution_count": 25,
   "id": "38ff59bd-f3ad-46b6-8415-38e47e181594",
   "metadata": {},
   "outputs": [
    {
     "name": "stdout",
     "output_type": "stream",
     "text": [
      "{20, 40, 10, 'bhumi', 30}\n"
     ]
    }
   ],
   "source": [
    "set1={10,20,'bhumi',30,'priya',40}\n",
    "set1.pop()\n",
    "print(set1)"
   ]
  },
  {
   "cell_type": "code",
   "execution_count": 26,
   "id": "b2f4fdfc-7f8f-4dd0-b635-e2bf24792e71",
   "metadata": {},
   "outputs": [
    {
     "name": "stdout",
     "output_type": "stream",
     "text": [
      "{40, 10, 30}\n"
     ]
    }
   ],
   "source": [
    "set1={10,20,30,40}\n",
    "set1.remove(20)\n",
    "print(set1)"
   ]
  },
  {
   "cell_type": "code",
   "execution_count": 27,
   "id": "f90646a4-b386-4890-bae5-536b9db6d311",
   "metadata": {},
   "outputs": [
    {
     "name": "stdout",
     "output_type": "stream",
     "text": [
      "{'priya', 20, 40, 10, 'bhumi', 30}\n"
     ]
    }
   ],
   "source": [
    "set1={10,20,'bhumi',30,'priya',40}\n",
    "set1.discard('umi')\n",
    "print(set1)"
   ]
  },
  {
   "cell_type": "code",
   "execution_count": 30,
   "id": "2f2facbb-1c28-479e-86d4-099664c31893",
   "metadata": {},
   "outputs": [
    {
     "name": "stdout",
     "output_type": "stream",
     "text": [
      "{'priya', 20, 10, 'bhumi', 30}\n"
     ]
    }
   ],
   "source": [
    "# function\n",
    "s1={10,'bhumi',30}\n",
    "s2={20,10,'priya',30}\n",
    "x=s1.union(s2)\n",
    "print(x)"
   ]
  },
  {
   "cell_type": "code",
   "execution_count": 31,
   "id": "af99a37d-c6d8-412c-9c6d-b2a75b5a2a17",
   "metadata": {},
   "outputs": [
    {
     "name": "stdout",
     "output_type": "stream",
     "text": [
      "{10, 30}\n"
     ]
    }
   ],
   "source": [
    "s1={10,'bhumi',30}\n",
    "s2={20,10,'priya',30}\n",
    "x=s1.intersection(s2)\n",
    "print(x)"
   ]
  },
  {
   "cell_type": "code",
   "execution_count": 33,
   "id": "50465d39-ca2d-46e6-8c3e-a0326de77e63",
   "metadata": {},
   "outputs": [
    {
     "name": "stdout",
     "output_type": "stream",
     "text": [
      "{'bhumi'}\n"
     ]
    }
   ],
   "source": [
    "s1={10,'bhumi',30}\n",
    "s2={20,10,'priya',30}\n",
    "# x=(s1-s2)\n",
    "x=s1.difference(s2)\n",
    "print(x)"
   ]
  },
  {
   "cell_type": "code",
   "execution_count": 37,
   "id": "8e663b32-6f6c-42ab-923b-5e08d8e192e3",
   "metadata": {},
   "outputs": [
    {
     "name": "stdout",
     "output_type": "stream",
     "text": [
      "{20, 5, 7, 'bhumi'}\n"
     ]
    }
   ],
   "source": [
    "s1={10,'bhumi','priya',30,5,8}\n",
    "s2={20,7,8,10,'priya',30}\n",
    "print(s1.symmetric_difference(s2))\n"
   ]
  },
  {
   "cell_type": "code",
   "execution_count": 38,
   "id": "1eb28601-1d6f-44c0-8d25-a10ac6100256",
   "metadata": {},
   "outputs": [
    {
     "name": "stdout",
     "output_type": "stream",
     "text": [
      "{8, 'priya', 10, 30}\n"
     ]
    }
   ],
   "source": [
    "s1={10,'bhumi','priya',30,5,8}\n",
    "s2={20,7,8,10,'priya',30}\n",
    "print(s1.intersection(s2))"
   ]
  },
  {
   "cell_type": "code",
   "execution_count": null,
   "id": "fe63a4fc-5e40-4539-b71d-de71ad732992",
   "metadata": {},
   "outputs": [],
   "source": []
  }
 ],
 "metadata": {
  "kernelspec": {
   "display_name": "Python 3 (ipykernel)",
   "language": "python",
   "name": "python3"
  },
  "language_info": {
   "codemirror_mode": {
    "name": "ipython",
    "version": 3
   },
   "file_extension": ".py",
   "mimetype": "text/x-python",
   "name": "python",
   "nbconvert_exporter": "python",
   "pygments_lexer": "ipython3",
   "version": "3.12.7"
  }
 },
 "nbformat": 4,
 "nbformat_minor": 5
}
