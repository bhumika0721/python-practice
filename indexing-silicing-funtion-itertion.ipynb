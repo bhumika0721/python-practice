{
 "cells": [
  {
   "cell_type": "code",
   "execution_count": 1,
   "id": "4e7c287a-8e42-4c35-9858-37cb4e376efd",
   "metadata": {},
   "outputs": [
    {
     "name": "stdout",
     "output_type": "stream",
     "text": [
      "1 2 3 4 5 6 7 8 9 153 370 371 407 1634 "
     ]
    }
   ],
   "source": [
    "start=1\n",
    "stop=2000\n",
    "for i in range(start,stop+1):\n",
    "    old=i\n",
    "    a=len(str(i))\n",
    "    sumdigit=0\n",
    "    while i!=0:\n",
    "        dig=i%10\n",
    "        sumdigit=sumdigit+(dig**a)\n",
    "        i=i//10\n",
    "    if old==sumdigit:\n",
    "        print(sumdigit,end=\" \")"
   ]
  },
  {
   "cell_type": "code",
   "execution_count": 2,
   "id": "29c63261-d2b2-47e1-baa2-13cc1fc802d4",
   "metadata": {},
   "outputs": [
    {
     "name": "stdout",
     "output_type": "stream",
     "text": [
      "b\n"
     ]
    }
   ],
   "source": [
    "# indexing and silicing\n",
    "s=\"cybrom\"\n",
    "print(s[2])"
   ]
  },
  {
   "cell_type": "code",
   "execution_count": 2,
   "id": "0b782371-f909-42e7-8e34-3f5021e13ce5",
   "metadata": {},
   "outputs": [
    {
     "name": "stdout",
     "output_type": "stream",
     "text": [
      "lapohb ot emoclew\n",
      "a\n",
      "ecm o\n"
     ]
    }
   ],
   "source": [
    "# slicing\n",
    "s=\"welcome to bhopal\"\n",
    "print(s[: :-1])\n",
    "print(s[-2::2])\n",
    "print(s[1:10:2])"
   ]
  },
  {
   "cell_type": "code",
   "execution_count": 5,
   "id": "4137924e-022d-4894-aaa9-c7f242c7679e",
   "metadata": {},
   "outputs": [
    {
     "name": "stdout",
     "output_type": "stream",
     "text": [
      "\n",
      "aobo mce\n",
      "wloet hpl\n"
     ]
    }
   ],
   "source": [
    "s=\"welcome to bhopal\"\n",
    "print(s[2:10:-1])\n",
    "print(s[-2::-2])\n",
    "print(s[::2])\n"
   ]
  },
  {
   "cell_type": "code",
   "execution_count": 6,
   "id": "7e5ad4d7-7e4e-4525-bf66-9e4ce7ef1b7a",
   "metadata": {},
   "outputs": [
    {
     "name": "stdout",
     "output_type": "stream",
     "text": [
      "c\n",
      "y\n",
      "b\n",
      "r\n",
      "o\n",
      "m\n"
     ]
    }
   ],
   "source": [
    "# string\n",
    "# direct iteration \n",
    "s=\"cybrom\"\n",
    "for i in s:\n",
    "    print(i)"
   ]
  },
  {
   "cell_type": "code",
   "execution_count": 7,
   "id": "567f083a-fdd5-4368-b9a9-cd157eaf1a2f",
   "metadata": {},
   "outputs": [
    {
     "name": "stdout",
     "output_type": "stream",
     "text": [
      "0 c\n",
      "1 y\n",
      "2 b\n",
      "3 r\n",
      "4 o\n",
      "5 m\n"
     ]
    }
   ],
   "source": [
    "# indirect iteration \n",
    "s=\"cybrom\"\n",
    "for i in range(len(s)):\n",
    "    print(i,s[i])\n"
   ]
  },
  {
   "cell_type": "code",
   "execution_count": 8,
   "id": "aa5569d9-3db9-40d3-91d0-520e32996316",
   "metadata": {},
   "outputs": [
    {
     "name": "stdin",
     "output_type": "stream",
     "text": [
      "enter any string: cybrom\n"
     ]
    },
    {
     "name": "stdout",
     "output_type": "stream",
     "text": [
      "morbyc\n"
     ]
    }
   ],
   "source": [
    "# w.a.p.p. to print reverse of any given string\n",
    "s=input(\"enter any string:\")\n",
    "rev=\"\"\n",
    "for i in s:\n",
    "    rev=i+rev\n",
    "print(rev)"
   ]
  },
  {
   "cell_type": "code",
   "execution_count": 20,
   "id": "1b5e93a1-d46a-4c51-ab6c-8c700c19cf36",
   "metadata": {},
   "outputs": [
    {
     "name": "stdin",
     "output_type": "stream",
     "text": [
      "enter any string kashvi\n"
     ]
    },
    {
     "name": "stdout",
     "output_type": "stream",
     "text": [
      " not a palindrome\n"
     ]
    }
   ],
   "source": [
    "# palindrome \n",
    "s=input(\"enter any string\")\n",
    "rev=\"\"\n",
    "for i in s:\n",
    "    rev=i+rev\n",
    "if s==rev:\n",
    "    print(\"palindrome\")\n",
    "else:\n",
    "    print(\" not a palindrome\")"
   ]
  },
  {
   "cell_type": "code",
   "execution_count": 1,
   "id": "444fa0c9-11df-4928-813e-a22766a9791e",
   "metadata": {},
   "outputs": [
    {
     "name": "stdin",
     "output_type": "stream",
     "text": [
      "enter any string: welcome to bhopal\n"
     ]
    },
    {
     "name": "stdout",
     "output_type": "stream",
     "text": [
      "17\n"
     ]
    }
   ],
   "source": [
    "# function-\n",
    "# len()-no of characters in agiven string\n",
    "# syntax-len(strobj)\n",
    "s=input(\"enter any string:\")\n",
    "a=len(s)\n",
    "print(a)"
   ]
  },
  {
   "cell_type": "code",
   "execution_count": 2,
   "id": "2e53429f-51ed-4f6f-8f29-6984e839aa89",
   "metadata": {},
   "outputs": [
    {
     "name": "stdin",
     "output_type": "stream",
     "text": [
      "enter any string: bhumika\n"
     ]
    },
    {
     "name": "stdout",
     "output_type": "stream",
     "text": [
      "7\n"
     ]
    }
   ],
   "source": [
    "s= input(\"enter any string:\")\n",
    "count=0\n",
    "for i in s:\n",
    "    count=count+1\n",
    "print(count)"
   ]
  },
  {
   "cell_type": "code",
   "execution_count": 6,
   "id": "776db364-3699-4283-84db-b5fd752a549d",
   "metadata": {},
   "outputs": [
    {
     "name": "stdout",
     "output_type": "stream",
     "text": [
      "b\n"
     ]
    }
   ],
   "source": [
    "s=\"cybrom\"\n",
    "min_value=s[0]\n",
    "for i in s:\n",
    "    if i<min_value:\n",
    "        min_value=i\n",
    "print(min_value)"
   ]
  },
  {
   "cell_type": "code",
   "execution_count": 7,
   "id": "61d5846c-b849-4cf0-bd42-ccf30ab96dd8",
   "metadata": {},
   "outputs": [
    {
     "name": "stdout",
     "output_type": "stream",
     "text": [
      "101\n"
     ]
    }
   ],
   "source": [
    "# ord(character)\n",
    "print(ord(\"e\"))"
   ]
  },
  {
   "cell_type": "code",
   "execution_count": 8,
   "id": "f5335d3a-e579-46b4-bd0c-7d72f71f592a",
   "metadata": {},
   "outputs": [
    {
     "name": "stdout",
     "output_type": "stream",
     "text": [
      "y\n"
     ]
    }
   ],
   "source": [
    "s=\"cybrom\"\n",
    "max_value=s[0]\n",
    "for i in s:\n",
    "    if i>max_value:\n",
    "        max_value=i\n",
    "print(max_value)        \n",
    "        "
   ]
  },
  {
   "cell_type": "code",
   "execution_count": 10,
   "id": "acf956e0-405d-40c2-81f2-051b5524b0ed",
   "metadata": {},
   "outputs": [
    {
     "name": "stdout",
     "output_type": "stream",
     "text": [
      "t\n",
      " \n"
     ]
    }
   ],
   "source": [
    "s=\"Welcome to bhopal\"\n",
    "print(max(s))\n",
    "print(min(s))"
   ]
  },
  {
   "cell_type": "code",
   "execution_count": 11,
   "id": "8a8b7607-6411-4e97-bcfb-bbcf974319bb",
   "metadata": {},
   "outputs": [
    {
     "name": "stdout",
     "output_type": "stream",
     "text": [
      "A\n"
     ]
    }
   ],
   "source": [
    "# chr(asciivalue/number)\n",
    "print(chr(65))"
   ]
  },
  {
   "cell_type": "code",
   "execution_count": 13,
   "id": "1b5d736b-85cb-4339-bd79-e4d63437267c",
   "metadata": {},
   "outputs": [
    {
     "name": "stdout",
     "output_type": "stream",
     "text": [
      "y\n",
      "b\n"
     ]
    }
   ],
   "source": [
    "s=\"cybrom\"\n",
    "print(max(s))\n",
    "print(min(s))"
   ]
  },
  {
   "cell_type": "code",
   "execution_count": 14,
   "id": "e9499809-e446-44c2-bca9-072892d48db0",
   "metadata": {},
   "outputs": [
    {
     "name": "stdout",
     "output_type": "stream",
     "text": [
      "y\n",
      "C\n"
     ]
    }
   ],
   "source": [
    "s=\"Cybrom\"\n",
    "print(max(s))\n",
    "print(min(s))"
   ]
  },
  {
   "cell_type": "code",
   "execution_count": 1,
   "id": "61d4a706-cfb7-4123-93b9-7d5eeff60f00",
   "metadata": {},
   "outputs": [
    {
     "name": "stdout",
     "output_type": "stream",
     "text": [
      "WELCOME TO BHOPAL\n",
      "welcome to bhopal\n",
      "Welcome to bhopal\n",
      "Welcome To Bhopal\n"
     ]
    }
   ],
   "source": [
    "# methods -upper(),lower(),capitalize(),title()\n",
    "s=\"welcome to bhopal\"\n",
    "print(s.upper())\n",
    "print(s.lower())\n",
    "print(s.capitalize())\n",
    "print(s.title())\n"
   ]
  },
  {
   "cell_type": "code",
   "execution_count": 2,
   "id": "7be3bd5e-3be7-44f4-bc48-268ae9ada025",
   "metadata": {},
   "outputs": [
    {
     "name": "stdin",
     "output_type": "stream",
     "text": [
      "enter any string: bhumika choudhary\n"
     ]
    },
    {
     "name": "stdout",
     "output_type": "stream",
     "text": [
      "BHUMIKA CHOUDHARY\n",
      "bhumika choudhary\n",
      "Bhumika choudhary\n",
      "Bhumika Choudhary\n"
     ]
    }
   ],
   "source": [
    "s=input(\"enter any string:\")\n",
    "print(s.upper())\n",
    "print(s.lower())\n",
    "print(s.capitalize())\n",
    "print(s.title())\n"
   ]
  },
  {
   "cell_type": "code",
   "execution_count": 3,
   "id": "fe42ff9c-5d58-41a8-9716-448eb84c9eea",
   "metadata": {},
   "outputs": [
    {
     "name": "stdout",
     "output_type": "stream",
     "text": [
      "False\n",
      "True\n"
     ]
    }
   ],
   "source": [
    "s=\"cybrom\"\n",
    "print(s.isupper())\n",
    "print(s.islower())"
   ]
  },
  {
   "cell_type": "code",
   "execution_count": 4,
   "id": "5398f838-1fbe-410f-9d37-efcae65ab268",
   "metadata": {},
   "outputs": [
    {
     "name": "stdout",
     "output_type": "stream",
     "text": [
      "True\n"
     ]
    }
   ],
   "source": [
    "s=\"cybrom\"\n",
    "print(s.isalpha())"
   ]
  },
  {
   "cell_type": "code",
   "execution_count": 5,
   "id": "951443f9-dd0b-4052-8879-a90315f79b85",
   "metadata": {},
   "outputs": [
    {
     "name": "stdout",
     "output_type": "stream",
     "text": [
      "False\n"
     ]
    }
   ],
   "source": [
    "s=\"cybrom\"\n",
    "print(s.isdigit())"
   ]
  },
  {
   "cell_type": "code",
   "execution_count": 6,
   "id": "19210f31-7529-4c08-bf3c-3b4397c0c3bf",
   "metadata": {},
   "outputs": [
    {
     "name": "stdout",
     "output_type": "stream",
     "text": [
      "True\n"
     ]
    }
   ],
   "source": [
    "s=\"27386\"\n",
    "print(s.isdigit())"
   ]
  },
  {
   "cell_type": "code",
   "execution_count": 7,
   "id": "3fd77cf4-13ff-4897-a1e9-101b1702c6e1",
   "metadata": {},
   "outputs": [
    {
     "name": "stdout",
     "output_type": "stream",
     "text": [
      "True\n"
     ]
    }
   ],
   "source": [
    "s=\"1234cybrom\"\n",
    "print(s.isalnum())"
   ]
  },
  {
   "cell_type": "code",
   "execution_count": 8,
   "id": "ad742183-aa80-4a61-aa26-93a2f2574a8f",
   "metadata": {},
   "outputs": [
    {
     "name": "stdout",
     "output_type": "stream",
     "text": [
      "False\n",
      "False\n",
      "False\n"
     ]
    }
   ],
   "source": [
    "s=\"cybrom@\"\n",
    "print(s.isalpha())\n",
    "print(s.isalnum())\n",
    "print(s.isdigit())\n"
   ]
  },
  {
   "cell_type": "code",
   "execution_count": 9,
   "id": "7ed20226-ed67-4a90-9896-c333acc6b165",
   "metadata": {},
   "outputs": [
    {
     "name": "stdout",
     "output_type": "stream",
     "text": [
      "3\n"
     ]
    }
   ],
   "source": [
    "# countspecific character/substring occurence\n",
    "# syntax-strobj.count(chr/substring/,[start],[stop])\n",
    "# start-by default0\n",
    "# stop-end of the string\n",
    "s=\"welcome to bhopal\"\n",
    "print(s.count(\"o\"))"
   ]
  },
  {
   "cell_type": "code",
   "execution_count": 10,
   "id": "682a282a-2174-40ef-bc9f-3112408dc999",
   "metadata": {},
   "outputs": [
    {
     "name": "stdout",
     "output_type": "stream",
     "text": [
      "2\n"
     ]
    }
   ],
   "source": [
    "s=\"welcome to bhopal\"\n",
    "print(s.count(\"o\",5))"
   ]
  },
  {
   "cell_type": "code",
   "execution_count": 11,
   "id": "386752e4-da66-4aca-9a41-c4652f715fd8",
   "metadata": {},
   "outputs": [
    {
     "name": "stdout",
     "output_type": "stream",
     "text": [
      "0\n"
     ]
    }
   ],
   "source": [
    "s=\"welcome to bhopal\"\n",
    "print(s.count(\"o\",5,9))"
   ]
  },
  {
   "cell_type": "code",
   "execution_count": 1,
   "id": "2374daa2-ffe7-4cbe-84b5-aaf5a42a1329",
   "metadata": {},
   "outputs": [
    {
     "name": "stdout",
     "output_type": "stream",
     "text": [
      "vowels 8\n",
      "consonant:  12\n",
      "spaces:  4\n"
     ]
    }
   ],
   "source": [
    "# w.a.p.p to find no of vowel,consonant and spaces in a given string\n",
    "s=\"welcome to city of lakes\"\n",
    "vowels=0\n",
    "consonant=0\n",
    "spaces=0\n",
    "for i in s:\n",
    "    if i.lower() in 'aeiou':\n",
    "        vowels=vowels+1\n",
    "    elif i==\" \":\n",
    "        spaces=spaces+1\n",
    "    else:\n",
    "        consonant=consonant+1\n",
    "print(\"vowels\", vowels)\n",
    "print(\"consonant: \",consonant)\n",
    "print(\"spaces: \", spaces)"
   ]
  },
  {
   "cell_type": "code",
   "execution_count": 2,
   "id": "d1e90511-d744-4672-adf6-6a81852c3399",
   "metadata": {},
   "outputs": [
    {
     "name": "stdout",
     "output_type": "stream",
     "text": [
      "['welcome', 'to', 'the', 'city', 'of', 'lake']\n"
     ]
    }
   ],
   "source": [
    "#split()\n",
    "# strobj.split([seperator],[maxspit])-optional perameter \n",
    "# seperator-by  default space \n",
    "# maxsplit-max occurance\n",
    "s=\"welcome to the city of lake\"\n",
    "l=s.split()\n",
    "print(l)"
   ]
  },
  {
   "cell_type": "code",
   "execution_count": 3,
   "id": "e8b6cd87-5f2e-4e0e-826c-fc0f458caa20",
   "metadata": {},
   "outputs": [
    {
     "name": "stdout",
     "output_type": "stream",
     "text": [
      "['welcome', 'to', 'the city of lake']\n"
     ]
    }
   ],
   "source": [
    "s=\"welcome to the city of lake\"\n",
    "l=s.split(\" \",2)\n",
    "print(l)"
   ]
  },
  {
   "cell_type": "code",
   "execution_count": 5,
   "id": "a74b03d1-2540-4d9d-94e6-f6026f0fc7f0",
   "metadata": {},
   "outputs": [
    {
     "name": "stdout",
     "output_type": "stream",
     "text": [
      "['welcome', 'to', 'the', 'city of lake']\n"
     ]
    }
   ],
   "source": [
    "s=\"welcome to the city of lake\"\n",
    "l=s.split(\" \",3)\n",
    "print(l)"
   ]
  },
  {
   "cell_type": "code",
   "execution_count": 6,
   "id": "38bcd4c2-7aea-45c1-bc5f-d5caf2ebf32d",
   "metadata": {},
   "outputs": [
    {
     "name": "stdout",
     "output_type": "stream",
     "text": [
      "['cybrom', 'cybrom']\n",
      "cybrom\n"
     ]
    }
   ],
   "source": [
    "s=\"cybrom;cybrom\"\n",
    "s1=s.split(\";\")\n",
    "print(s1)\n",
    "s2=s1[0]\n",
    "print(s2)"
   ]
  },
  {
   "cell_type": "code",
   "execution_count": 10,
   "id": "f63495ca-fd51-4275-bbb3-1a630cf52849",
   "metadata": {},
   "outputs": [
    {
     "name": "stdout",
     "output_type": "stream",
     "text": [
      "welcome to bhopal\n"
     ]
    }
   ],
   "source": [
    "# join()\n",
    "# seperator.join(strobj)\n",
    "l=[\"welcome\",\"to\",\"bhopal\"]\n",
    "s=\" \".join(l)\n",
    "print(s)"
   ]
  },
  {
   "cell_type": "code",
   "execution_count": 15,
   "id": "f9a25291-a370-428b-aed7-271656d1b16d",
   "metadata": {},
   "outputs": [
    {
     "name": "stdout",
     "output_type": "stream",
     "text": [
      "h-e-l-l-o\n",
      "['h', 'e', 'l', 'l', 'o']\n",
      "hello\n"
     ]
    }
   ],
   "source": [
    "s=\"hello\"\n",
    "s1=\"-\".join(s)\n",
    "print(s1)\n",
    "s2=s1.split(\"-\")\n",
    "print(s2)\n",
    "s3=\"\".join(s2)\n",
    "print(s3)"
   ]
  },
  {
   "cell_type": "code",
   "execution_count": 16,
   "id": "8cd58158-6713-4557-aa16-63ca8f1e9e2e",
   "metadata": {},
   "outputs": [
    {
     "name": "stdout",
     "output_type": "stream",
     "text": [
      "cybrom\n"
     ]
    }
   ],
   "source": [
    "# strip([character/specialcharacter])\n",
    "s=\"   cybrom    \"\n",
    "s1=s.strip()\n",
    "print(s1)\n"
   ]
  },
  {
   "cell_type": "code",
   "execution_count": 18,
   "id": "f34771d9-27f2-4f95-83b0-0aeebeec87bd",
   "metadata": {},
   "outputs": [
    {
     "name": "stdout",
     "output_type": "stream",
     "text": [
      "bhumi\n"
     ]
    }
   ],
   "source": [
    "s=\",,/[rrrtg,,bhumi?...,,/\"\n",
    "s1=s.strip(\",/[rtg?.\")\n",
    "print(s1)"
   ]
  },
  {
   "cell_type": "code",
   "execution_count": 19,
   "id": "26c69058-408b-4384-ae40-6b3b41bbf8a3",
   "metadata": {},
   "outputs": [
    {
     "name": "stdout",
     "output_type": "stream",
     "text": [
      "welcome to bhopal\n"
     ]
    }
   ],
   "source": [
    "# replace(\"oldsubstring/oldchr\",\"newchr/\n",
    "s=\"welcome to cybrom\"\n",
    "s1=s.replace(\"cybrom\",\"bhopal\")\n",
    "print(s1)"
   ]
  },
  {
   "cell_type": "code",
   "execution_count": 20,
   "id": "8c3ed860-4a02-4971-bfd5-89056312f302",
   "metadata": {},
   "outputs": [
    {
     "name": "stdout",
     "output_type": "stream",
     "text": [
      "welcame ta bhapal\n"
     ]
    }
   ],
   "source": [
    "s=\"welcome to bhopal\"\n",
    "s1=s.replace(\"o\",\"a\")\n",
    "print(s1)"
   ]
  },
  {
   "cell_type": "code",
   "execution_count": 1,
   "id": "bfad121c-cc04-421d-a1e0-f7a904404e5d",
   "metadata": {},
   "outputs": [
    {
     "name": "stdout",
     "output_type": "stream",
     "text": [
      "4\n"
     ]
    }
   ],
   "source": [
    "#find\n",
    "# syntax-\n",
    "# strobj.find(\"charecter/substring\",[start],[stop]\n",
    "s=\"welcome to bhopal\"\n",
    "print(s.find(\"o\"))"
   ]
  },
  {
   "cell_type": "code",
   "execution_count": 2,
   "id": "3c44a4b9-d2c2-41ea-839a-170d03928ada",
   "metadata": {},
   "outputs": [
    {
     "name": "stdout",
     "output_type": "stream",
     "text": [
      "9\n"
     ]
    }
   ],
   "source": [
    "s=\"welcome to bhopal\"\n",
    "print(s.find(\"o\",5))"
   ]
  },
  {
   "cell_type": "code",
   "execution_count": 3,
   "id": "094131c3-32c8-4cc6-b972-e1a5f6da7409",
   "metadata": {},
   "outputs": [
    {
     "name": "stdout",
     "output_type": "stream",
     "text": [
      "-1\n"
     ]
    }
   ],
   "source": [
    "s=\"welcome to bhopal\"\n",
    "print(s.find(\"o\",5,9))"
   ]
  },
  {
   "cell_type": "code",
   "execution_count": 4,
   "id": "8476dd41-409c-4d3f-a677-f518a343911b",
   "metadata": {},
   "outputs": [
    {
     "name": "stdout",
     "output_type": "stream",
     "text": [
      "4\n"
     ]
    }
   ],
   "source": [
    "# index()\n",
    "s=\"welcome to bhopal\"\n",
    "print(s.index(\"o\"))"
   ]
  },
  {
   "cell_type": "code",
   "execution_count": 5,
   "id": "36d390f5-2422-4fa5-8a8e-9c5040b7dce7",
   "metadata": {},
   "outputs": [
    {
     "name": "stdout",
     "output_type": "stream",
     "text": [
      "11\n"
     ]
    }
   ],
   "source": [
    "s=\"welcome to bhopal\"\n",
    "print(s.index(\"bho\"))"
   ]
  },
  {
   "cell_type": "code",
   "execution_count": 6,
   "id": "04fba802-c7f5-4118-8822-c509ba9723c3",
   "metadata": {},
   "outputs": [
    {
     "ename": "ValueError",
     "evalue": "substring not found",
     "output_type": "error",
     "traceback": [
      "\u001b[1;31m---------------------------------------------------------------------------\u001b[0m",
      "\u001b[1;31mValueError\u001b[0m                                Traceback (most recent call last)",
      "Cell \u001b[1;32mIn[6], line 2\u001b[0m\n\u001b[0;32m      1\u001b[0m s\u001b[38;5;241m=\u001b[39m\u001b[38;5;124m\"\u001b[39m\u001b[38;5;124mwelcome to bhopal\u001b[39m\u001b[38;5;124m\"\u001b[39m\n\u001b[1;32m----> 2\u001b[0m \u001b[38;5;28mprint\u001b[39m(s\u001b[38;5;241m.\u001b[39mindex(\u001b[38;5;124m\"\u001b[39m\u001b[38;5;124mo\u001b[39m\u001b[38;5;124m\"\u001b[39m,\u001b[38;5;241m5\u001b[39m,\u001b[38;5;241m9\u001b[39m))\n",
      "\u001b[1;31mValueError\u001b[0m: substring not found"
     ]
    }
   ],
   "source": [
    "s=\"welcome to bhopal\"\n",
    "print(s.index(\"o\",5,9))"
   ]
  },
  {
   "cell_type": "code",
   "execution_count": 1,
   "id": "7c70da99-a204-4b0b-9c66-c957e7461111",
   "metadata": {},
   "outputs": [
    {
     "name": "stdout",
     "output_type": "stream",
     "text": [
      "10\n",
      "20\n",
      "30\n",
      "hello\n",
      "10.5\n"
     ]
    }
   ],
   "source": [
    "# list \n",
    "# indirect iteration\n",
    "l=[10,20,30,\"hello\",10.5]\n",
    "for i in range(len(l)):\n",
    "    print(l[i])\n"
   ]
  },
  {
   "cell_type": "code",
   "execution_count": 3,
   "id": "e75acb06-d904-4bbd-beac-654b63546438",
   "metadata": {},
   "outputs": [
    {
     "name": "stdout",
     "output_type": "stream",
     "text": [
      "10\n",
      "20\n",
      "30\n",
      "hello\n",
      "10.5\n"
     ]
    }
   ],
   "source": [
    "# direct iteration\n",
    "l=[10,20,30,\"hello\",10.5]\n",
    "for i in l:\n",
    "    print(i)"
   ]
  },
  {
   "cell_type": "code",
   "execution_count": 7,
   "id": "61d6a575-5081-4766-9321-35ee9fe07c0f",
   "metadata": {},
   "outputs": [
    {
     "name": "stdout",
     "output_type": "stream",
     "text": [
      "hello\n",
      "[80, 60, 10.9, 'welcome', 10.5, 'hello', 40, 30, 20, 10]\n",
      "[20, 40, 10.5, 10.9]\n"
     ]
    }
   ],
   "source": [
    "l=[10,20,30,40,\"hello\",10.5,\"welcome\",10.9,60,80]\n",
    "print(l[4])\n",
    "print(l[::-1])\n",
    "print(l[1:9:2])"
   ]
  },
  {
   "cell_type": "code",
   "execution_count": 10,
   "id": "255ec8da-c4e2-4769-a95a-fac23de96ff1",
   "metadata": {},
   "outputs": [
    {
     "name": "stdout",
     "output_type": "stream",
     "text": [
      "[100, 200, 300, 'hello']\n",
      "hello\n",
      "l\n"
     ]
    }
   ],
   "source": [
    "l=[10,20,30,[100,200,300,\"hello\"],10.5,200.2]\n",
    "print(l[3])\n",
    "print(l[3][3])\n",
    "print(l[3][3][2])"
   ]
  },
  {
   "cell_type": "code",
   "execution_count": 1,
   "id": "dac400a3-2318-49d1-8418-7b6e7fc22568",
   "metadata": {},
   "outputs": [
    {
     "name": "stdout",
     "output_type": "stream",
     "text": [
      "[10, 20, [30, ['bpl', 'ind', 200], 100], 200.2, 10.5]\n",
      "[30, ['bpl', 'ind', 200], 100]\n",
      "['bpl', 'ind', 200]\n",
      "ind\n",
      "n\n"
     ]
    }
   ],
   "source": [
    "l=[10,20,[30,[\"bpl\",\"ind\",200],100],200.2,10.5]\n",
    "print(l)\n",
    "print(l[2])\n",
    "print(l[2][1])\n",
    "print(l[2][1][1])\n",
    "print(l[2][1][1][1])"
   ]
  },
  {
   "cell_type": "code",
   "execution_count": 2,
   "id": "ffc456c8-2f8a-4663-b97e-f641f64a5ebb",
   "metadata": {},
   "outputs": [
    {
     "name": "stdout",
     "output_type": "stream",
     "text": [
      "6\n",
      "6\n"
     ]
    }
   ],
   "source": [
    "# function \n",
    "# len(): no of elemnts in a given list \n",
    "l=[10,20,30,\"cybrom\",\"h\",1000]\n",
    "print(len(l))\n",
    "count=0\n",
    "for i in l:\n",
    "    count=count+1\n",
    "print(count)"
   ]
  },
  {
   "cell_type": "code",
   "execution_count": 4,
   "id": "3a85e2e4-c887-49cd-b8a8-96fb2d6153a1",
   "metadata": {},
   "outputs": [
    {
     "ename": "TypeError",
     "evalue": "'builtin_function_or_method' object is not subscriptable",
     "output_type": "error",
     "traceback": [
      "\u001b[1;31m---------------------------------------------------------------------------\u001b[0m",
      "\u001b[1;31mTypeError\u001b[0m                                 Traceback (most recent call last)",
      "Cell \u001b[1;32mIn[4], line 2\u001b[0m\n\u001b[0;32m      1\u001b[0m l\u001b[38;5;241m=\u001b[39m[\u001b[38;5;241m100\u001b[39m,\u001b[38;5;241m1\u001b[39m,\u001b[38;5;241m20\u001b[39m,\u001b[38;5;241m200\u001b[39m,\u001b[38;5;124m\"\u001b[39m\u001b[38;5;124mhello\u001b[39m\u001b[38;5;124m\"\u001b[39m,\u001b[38;5;241m19\u001b[39m,\u001b[38;5;241m-\u001b[39m\u001b[38;5;241m10\u001b[39m]\n\u001b[1;32m----> 2\u001b[0m \u001b[38;5;28mprint\u001b[39m(\u001b[38;5;28mmax\u001b[39m[l])\n",
      "\u001b[1;31mTypeError\u001b[0m: 'builtin_function_or_method' object is not subscriptable"
     ]
    }
   ],
   "source": [
    "l=[100,1,20,200,\"hello\",19,-10]\n",
    "print(max[l])"
   ]
  },
  {
   "cell_type": "code",
   "execution_count": 6,
   "id": "c6e80993-63ec-4faf-a107-b515e5aa0f0b",
   "metadata": {},
   "outputs": [
    {
     "name": "stdout",
     "output_type": "stream",
     "text": [
      "200\n"
     ]
    }
   ],
   "source": [
    "l=[100,1,20,200,19,-10]\n",
    "max_value=l[0]\n",
    "for i in l:\n",
    "    if i>max_value:\n",
    "        max_value=i\n",
    "print(max_value)"
   ]
  },
  {
   "cell_type": "code",
   "execution_count": null,
   "id": "fd82f39a-7336-4c2c-b5af-6182a21e74ac",
   "metadata": {},
   "outputs": [],
   "source": [
    "# methods-\n",
    "# add element to an existing list \n",
    "# append(),insert(),extend()"
   ]
  },
  {
   "cell_type": "code",
   "execution_count": 1,
   "id": "9dd0e928-5578-4524-b01a-006668601598",
   "metadata": {},
   "outputs": [
    {
     "name": "stdout",
     "output_type": "stream",
     "text": [
      "[10, 20, 'hello', 40, 50, 1000]\n"
     ]
    }
   ],
   "source": [
    "# append\n",
    "# syntax-listobj.append(value/ iterabales)\n",
    "l=[10,20,\"hello\",40,50]\n",
    "l.append(1000)\n",
    "print(l)"
   ]
  },
  {
   "cell_type": "code",
   "execution_count": 2,
   "id": "fd582a48-b385-4600-b097-2e0eda0bb2c4",
   "metadata": {},
   "outputs": [
    {
     "name": "stdout",
     "output_type": "stream",
     "text": [
      "[10, 20, 'hello', 40, 50, [100, 200, 'wlcome', 300]]\n"
     ]
    }
   ],
   "source": [
    "l=[10,20,\"hello\",40,50]\n",
    "l.append([100,200,\"wlcome\",300])\n",
    "print(l)"
   ]
  },
  {
   "cell_type": "code",
   "execution_count": 3,
   "id": "cab4d9fb-1d29-434b-a720-7fecfe1a203e",
   "metadata": {},
   "outputs": [
    {
     "name": "stdout",
     "output_type": "stream",
     "text": [
      "[10, 20, 10.5, 'hello', 50, 60]\n"
     ]
    }
   ],
   "source": [
    "# insert\n",
    "# syntax-listobj.insert(position ,value/iterables\n",
    "l=[10,20,\"hello\",50,60]\n",
    "l.insert(2,10.5)\n",
    "print(l)"
   ]
  },
  {
   "cell_type": "code",
   "execution_count": 4,
   "id": "f882754d-d133-4e9c-b91e-3f9418d36d43",
   "metadata": {},
   "outputs": [
    {
     "name": "stdout",
     "output_type": "stream",
     "text": [
      "[10, 20, 30, 40, 'hello', 100, 200, 300]\n"
     ]
    }
   ],
   "source": [
    "# extend\n",
    "# synatx listobj.extend(iterables)\n",
    "l1=[10,20,30,40,\"hello\"]\n",
    "l2=[100,200,300]\n",
    "l1.extend(l2)\n",
    "print(l1)"
   ]
  },
  {
   "cell_type": "code",
   "execution_count": 5,
   "id": "139f2f4c-143d-487f-b815-e9d03a6dc016",
   "metadata": {},
   "outputs": [
    {
     "name": "stdout",
     "output_type": "stream",
     "text": [
      "[10, 20, 30, 40, 'hello', 'c', 'y', 'b', 'r', 'o', 'm']\n"
     ]
    }
   ],
   "source": [
    "l1=[10,20,30,40,\"hello\"]\n",
    "l1.extend(\"cybrom\")\n",
    "print(l1)"
   ]
  },
  {
   "cell_type": "code",
   "execution_count": 10,
   "id": "0af38ed0-1c63-423c-9106-7239d374f1c9",
   "metadata": {},
   "outputs": [
    {
     "name": "stdin",
     "output_type": "stream",
     "text": [
      "enter any number: 10\n",
      "enter any number: 20\n",
      "enter any number: 30\n",
      "enter any number: 505\n",
      "enter any number: 60\n"
     ]
    },
    {
     "name": "stdout",
     "output_type": "stream",
     "text": [
      "[10, 20, 30, 505, 60]\n"
     ]
    }
   ],
   "source": [
    "# wap to create a homogenous list having 5 element?\n",
    "# (take input from user atruntime\n",
    "l=[]\n",
    "for i in range(5):\n",
    "     n=int(input(\"enter any number:\"))\n",
    "     l.append(n)\n",
    "print(l)"
   ]
  },
  {
   "cell_type": "code",
   "execution_count": 12,
   "id": "7cea9dd7-c17a-4df3-9fd6-825c6b8d70df",
   "metadata": {},
   "outputs": [
    {
     "name": "stdout",
     "output_type": "stream",
     "text": [
      "[1, 8, 27, 64, 125]\n"
     ]
    }
   ],
   "source": [
    "# cube\n",
    "l=[1,2,3,4,5]\n",
    "l1=[]\n",
    "for i in l:\n",
    "    l1.append(i**3)\n",
    "print(l1)"
   ]
  },
  {
   "cell_type": "code",
   "execution_count": 13,
   "id": "32f80ebc-4b23-486d-8731-48bcfdf1c827",
   "metadata": {},
   "outputs": [
    {
     "name": "stdout",
     "output_type": "stream",
     "text": [
      "[0, 1, 4, 9, 16, 25, 36]\n"
     ]
    }
   ],
   "source": [
    "# [0,1,2,3,4,5]\n",
    "l=[]\n",
    "for i in range(7):\n",
    "    l.append(i**2)\n",
    "print(l)"
   ]
  },
  {
   "cell_type": "code",
   "execution_count": 22,
   "id": "d1fb0cda-cab8-4011-8b03-7a1b4dd37d22",
   "metadata": {},
   "outputs": [
    {
     "name": "stdout",
     "output_type": "stream",
     "text": [
      "['madam', 'aa', 'naman']\n"
     ]
    }
   ],
   "source": [
    "l=[\"madam\",\"cybrom\",\"aa\",\"naman\",\"tech\"]\n",
    "l1=[]\n",
    "for i in l:\n",
    "    rev=\"\"\n",
    "    for j in i:\n",
    "        rev=j+rev\n",
    "    if i==rev:\n",
    "        l1.append(i)\n",
    "print(l1)        "
   ]
  },
  {
   "cell_type": "code",
   "execution_count": 23,
   "id": "c42ec2c4-8cbd-4057-94a0-f5fe2f8822da",
   "metadata": {},
   "outputs": [
    {
     "name": "stdout",
     "output_type": "stream",
     "text": [
      "[10]\n",
      "[10, 14]\n",
      "[10, 14, 78]\n",
      "[10, 14, 78, 102]\n"
     ]
    }
   ],
   "source": [
    "l=[10,1,3,14,78,41,99,102]\n",
    "# [10,14,78,102]\n",
    "l1=[]\n",
    "for i in l:\n",
    "     if i%2==0:\n",
    "       l1.append(i)\n",
    "       print(l1)"
   ]
  },
  {
   "cell_type": "code",
   "execution_count": 28,
   "id": "534f0960-02f0-41ec-8bab-af13c3dd0c12",
   "metadata": {},
   "outputs": [
    {
     "name": "stdout",
     "output_type": "stream",
     "text": [
      "[13, 26, 52]\n"
     ]
    }
   ],
   "source": [
    "l=[55,13,26,12,19,52]\n",
    "# [13,26,52]\n",
    "l1=[]\n",
    "for i in l:\n",
    "    if i%13==0:\n",
    "       l1.append(i)\n",
    "print(l1)"
   ]
  },
  {
   "cell_type": "code",
   "execution_count": 1,
   "id": "3bce7e69-546a-4987-8367-f4c187435aee",
   "metadata": {},
   "outputs": [
    {
     "name": "stdout",
     "output_type": "stream",
     "text": [
      "[10, 20, 30, [100, 200, ['ind', 'usa', 'bpl', 'gwl'], 2000.5], 1000, 2000, 12]\n"
     ]
    }
   ],
   "source": [
    "l=[10,20,30,[100,200,[\"ind\",\"usa\"],2000.5],1000,2000,12]\n",
    "l1=[\"bpl\",\"gwl\"]\n",
    "l[3][2].extend(l1)\n",
    "print(l)"
   ]
  },
  {
   "cell_type": "code",
   "execution_count": 2,
   "id": "5a37f43d-ea27-4bc7-b0e8-68f2beafcd49",
   "metadata": {},
   "outputs": [
    {
     "name": "stdout",
     "output_type": "stream",
     "text": [
      "[10, 20, 30, [100, 200, ['ind', 'usa', 'bpl'], 2000.5], 1000, 2000, 12]\n",
      "[10, 20, 30, [100, 200, ['ind', 'usa', 'bpl', 'gwl'], 2000.5], 1000, 2000, 12]\n",
      "[10, 20, 30, [100, 200, ['ind', 'usa', 'bpl', 'gwl', 'jbl'], 2000.5], 1000, 2000, 12]\n"
     ]
    }
   ],
   "source": [
    "l=[10,20,30,[100,200,[\"ind\",\"usa\"],2000.5],1000,2000,12]\n",
    "l1=[\"bpl\",\"gwl\",\"jbl\"]\n",
    "for i in l1:\n",
    "    l[3][2].insert(4,i)\n",
    "    print(l)"
   ]
  },
  {
   "cell_type": "code",
   "execution_count": 3,
   "id": "75d6be71-6458-4162-a28a-a4d24231ae9c",
   "metadata": {},
   "outputs": [
    {
     "name": "stdout",
     "output_type": "stream",
     "text": [
      "[10, 20, 30, [100, 200, ['ind', 'usa', 'bpl', 'gwl'], 2000.5], 1000, 2000, 12]\n"
     ]
    }
   ],
   "source": [
    "l=[10,20,30,[100,200,[\"ind\",\"usa\"],2000.5],1000,2000,12]\n",
    "l1=[\"bpl\",\"gwl\"]\n",
    "for i in l1:\n",
    "    l[3][2].append(i)\n",
    "print(l)"
   ]
  },
  {
   "cell_type": "code",
   "execution_count": 4,
   "id": "b3f60387-39a7-43e1-92c2-46382e657e4f",
   "metadata": {},
   "outputs": [
    {
     "name": "stdout",
     "output_type": "stream",
     "text": [
      "[10, 20, 30, 1000, 2000]\n"
     ]
    }
   ],
   "source": [
    "l=[10,20,30]\n",
    "l1=[1000,2000]\n",
    "for i in l1:\n",
    "    l.insert(4,i)\n",
    "print(l)    "
   ]
  },
  {
   "cell_type": "code",
   "execution_count": null,
   "id": "6a6742c3-1077-40e5-aae8-023901cb0dc2",
   "metadata": {},
   "outputs": [],
   "source": [
    "# remove element for an existing list .pop(),clear(),,del(),remove()\n"
   ]
  },
  {
   "cell_type": "code",
   "execution_count": 1,
   "id": "42c6a3ea-220b-437b-8be8-2d58086fe077",
   "metadata": {},
   "outputs": [
    {
     "name": "stdout",
     "output_type": "stream",
     "text": [
      "1000\n",
      "[10, 20, 30, 'hello']\n"
     ]
    }
   ],
   "source": [
    "# pop()\n",
    "# listobj.pop([posoyiton])\n",
    "# by default remove  -1 elment\n",
    "# pop always return a element which is removed from an existing list\n",
    "l=[10,20,30,\"hello\",1000]\n",
    "print(l.pop())\n",
    "print(l)"
   ]
  },
  {
   "cell_type": "code",
   "execution_count": 2,
   "id": "15dbc0d9-a17b-4234-9609-553bbd1b3fe8",
   "metadata": {},
   "outputs": [
    {
     "name": "stdout",
     "output_type": "stream",
     "text": [
      "20\n",
      "[10, 30, 'hello', 1000]\n"
     ]
    }
   ],
   "source": [
    "l=[10,20,30,\"hello\",1000]\n",
    "print(l.pop(1))\n",
    "print(l)"
   ]
  },
  {
   "cell_type": "code",
   "execution_count": 5,
   "id": "50f3cd6d-b524-4759-8def-e1276017fac1",
   "metadata": {},
   "outputs": [
    {
     "name": "stdout",
     "output_type": "stream",
     "text": [
      "[10, 20, 'hello', 1999]\n"
     ]
    }
   ],
   "source": [
    "# del\n",
    "# del listobj[position]\n",
    "l=[10,20,30,\"hello\",1999]\n",
    "del l[2]\n",
    "print(l)"
   ]
  },
  {
   "cell_type": "code",
   "execution_count": 6,
   "id": "6f8a216e-0207-4430-9f5d-7895c988b453",
   "metadata": {},
   "outputs": [
    {
     "name": "stdout",
     "output_type": "stream",
     "text": [
      "[10, 20, 30, 10, 20, 100]\n"
     ]
    }
   ],
   "source": [
    "# remove\n",
    "# listobj.remove(value)\n",
    "l=[10,20,30,\"hello\",10,20,100]\n",
    "l.remove(\"hello\")\n",
    "print(l)"
   ]
  },
  {
   "cell_type": "code",
   "execution_count": 7,
   "id": "cc640a12-ae39-4926-8e88-4365f8148e98",
   "metadata": {},
   "outputs": [
    {
     "name": "stdout",
     "output_type": "stream",
     "text": [
      "[20, 30, 'hello', 10, 20, 100]\n"
     ]
    }
   ],
   "source": [
    "l=[10,20,30,\"hello\",10,20,100]\n",
    "l.remove(10)\n",
    "print(l)"
   ]
  },
  {
   "cell_type": "code",
   "execution_count": 8,
   "id": "792256c6-0ffa-4a81-b405-18f0277239ce",
   "metadata": {},
   "outputs": [
    {
     "name": "stdout",
     "output_type": "stream",
     "text": [
      "[20, 30, 'hello', 20, 100]\n"
     ]
    }
   ],
   "source": [
    "l=[10,20,30,\"hello\",10,20,100]\n",
    "for i in l:\n",
    "    if i==10:\n",
    "        l.remove(i)\n",
    "print(l)"
   ]
  },
  {
   "cell_type": "code",
   "execution_count": 9,
   "id": "f296c4e8-38ef-4c68-9238-352714de6320",
   "metadata": {},
   "outputs": [
    {
     "name": "stdout",
     "output_type": "stream",
     "text": [
      "[]\n"
     ]
    }
   ],
   "source": [
    "# clear()\n",
    "# listobj.clear()\n",
    "l=[10,20,30,10.2]\n",
    "l.clear()\n",
    "print(l)"
   ]
  },
  {
   "cell_type": "code",
   "execution_count": 10,
   "id": "8c7f31a8-c75f-40e8-a46f-f4dd9637e64a",
   "metadata": {},
   "outputs": [
    {
     "name": "stdout",
     "output_type": "stream",
     "text": [
      "2\n"
     ]
    }
   ],
   "source": [
    "# count method-return occurance of particular element in a given list\n",
    "# syntax- listobj.count(element)\n",
    "l=[10,20,30,10,20,10,40,50]\n",
    "print(l.count(20))\n"
   ]
  },
  {
   "cell_type": "code",
   "execution_count": 11,
   "id": "1692d0ca-f929-42fc-8e52-bbf939dd82a9",
   "metadata": {},
   "outputs": [
    {
     "name": "stdout",
     "output_type": "stream",
     "text": [
      "3\n"
     ]
    }
   ],
   "source": [
    "l=[10,20,30,10,20,10,40,50]\n",
    "print(l.count(10))"
   ]
  },
  {
   "cell_type": "code",
   "execution_count": null,
   "id": "a8020c49-7672-41e6-9272-9d94bb5fd4b9",
   "metadata": {},
   "outputs": [],
   "source": [
    "# index"
   ]
  },
  {
   "cell_type": "code",
   "execution_count": 8,
   "id": "109f4a56-35ae-4de9-a204-422b7cea795a",
   "metadata": {},
   "outputs": [
    {
     "name": "stdout",
     "output_type": "stream",
     "text": [
      "[3, 10.5, 20, 200.5, 1000]\n"
     ]
    }
   ],
   "source": [
    "# sort()-method- existing list \n",
    "l=[1000,20,3,10.5,200.5]\n",
    "l.sort()\n",
    "print(l)"
   ]
  },
  {
   "cell_type": "code",
   "execution_count": 7,
   "id": "05d786a1-f6a2-4e74-8a55-c18fc8a1e03d",
   "metadata": {},
   "outputs": [
    {
     "name": "stdout",
     "output_type": "stream",
     "text": [
      "[1000, 200.5, 20, 10.5, 3]\n"
     ]
    }
   ],
   "source": [
    "l=[1000,20,3,10.5,200.5]\n",
    "l.sort(reverse=True)\n",
    "print(l)"
   ]
  },
  {
   "cell_type": "code",
   "execution_count": 9,
   "id": "ce37c82e-44e2-48d4-830c-b83a274708e4",
   "metadata": {},
   "outputs": [
    {
     "name": "stdout",
     "output_type": "stream",
     "text": [
      "[1000, 20, 3, 10.5, 200.5]\n"
     ]
    }
   ],
   "source": [
    "# sorted-function --return new list \n",
    "l=[1000,20,3,10.5,200.5]\n",
    "l1=sorted(l,reverse=True)\n",
    "print(l)"
   ]
  },
  {
   "cell_type": "code",
   "execution_count": 11,
   "id": "05562c87-ced2-47b3-a1a1-984649a41856",
   "metadata": {},
   "outputs": [
    {
     "name": "stdout",
     "output_type": "stream",
     "text": [
      "[-1, 2, 2, 3, 10, 19, 20, 100]\n"
     ]
    }
   ],
   "source": [
    "# tuple\n",
    "t=(10,2,19,2,-1,20,3,100)\n",
    "t1=sorted(t)\n",
    "print(t1)"
   ]
  },
  {
   "cell_type": "code",
   "execution_count": 12,
   "id": "509b3a6c-426c-4529-9ba8-dc1e86f32ec7",
   "metadata": {},
   "outputs": [
    {
     "name": "stdout",
     "output_type": "stream",
     "text": [
      "[2, 12, 13.5, 1000]\n"
     ]
    }
   ],
   "source": [
    "l=[1000,2,13.5,12]\n",
    "for i in range(len(l)):\n",
    "    for j in range(i+1,len(l)):\n",
    "        if l[i]>l[j]:\n",
    "            l[i],l[j]=l[j],l[i]\n",
    "print(l)"
   ]
  },
  {
   "cell_type": "code",
   "execution_count": 1,
   "id": "694912e8-6003-4d80-a962-a18b01f32890",
   "metadata": {},
   "outputs": [
    {
     "name": "stdout",
     "output_type": "stream",
     "text": [
      "[1000, 13.5, 12, 2]\n"
     ]
    }
   ],
   "source": [
    "l=[1000,2,13.5,12]\n",
    "for i in range(len(l)):\n",
    "    for j in range(i+1,len(l)):\n",
    "        if l[i]<l[j]:\n",
    "            l[i],l[j]=l[j],l[i]\n",
    "print(l)\n"
   ]
  },
  {
   "cell_type": "code",
   "execution_count": 2,
   "id": "f73ec6c0-9c64-46c0-96cd-57ee650cbc7c",
   "metadata": {},
   "outputs": [
    {
     "name": "stdout",
     "output_type": "stream",
     "text": [
      "[8, 19, 3, 10]\n"
     ]
    }
   ],
   "source": [
    "# reverse\n",
    "l=[10,3,19,8]\n",
    "for i in range(len(l)):\n",
    "    for j in range(i+1,len(l)):\n",
    "            l[i],l[j]=l[j],l[i]\n",
    "print(l)"
   ]
  },
  {
   "cell_type": "code",
   "execution_count": 3,
   "id": "8923a41a-2757-46f4-884c-fa82dd4facf4",
   "metadata": {},
   "outputs": [
    {
     "name": "stdout",
     "output_type": "stream",
     "text": [
      "[(5, 1), (4, 3), (2, 4), (3, 5), (1, 2)]\n",
      "[(5, 1), (1, 2), (2, 4), (3, 5), (4, 3)]\n",
      "[(5, 1), (1, 2), (4, 3), (3, 5), (2, 4)]\n",
      "[(5, 1), (1, 2), (4, 3), (2, 4), (3, 5)]\n"
     ]
    }
   ],
   "source": [
    "# \n",
    "l=[(4,3),(5,1),(2,4),(3,5),(1,2)]\n",
    "# [(5,1)(1,2)(4,3)(2,4)(3,5)]\n",
    "for i in range(len(l)):\n",
    "    for j in range(i+1,len(l)):\n",
    "        if l[i][-1]>l[j][-1]:\n",
    "            l[i],l[j]=l[j],l[i]\n",
    "            print(l)            "
   ]
  },
  {
   "cell_type": "code",
   "execution_count": 1,
   "id": "b7648f5a-cbec-47e2-9eb2-1c42974fcc14",
   "metadata": {},
   "outputs": [
    {
     "name": "stdin",
     "output_type": "stream",
     "text": [
      "\n",
      "    1 push\n",
      "    2 pop\n",
      "    3 peek\n",
      "    4 display stack\n",
      "    5 exit\n",
      "     2\n"
     ]
    },
    {
     "name": "stdout",
     "output_type": "stream",
     "text": [
      "empty stack\n"
     ]
    },
    {
     "name": "stdin",
     "output_type": "stream",
     "text": [
      "\n",
      "    1 push\n",
      "    2 pop\n",
      "    3 peek\n",
      "    4 display stack\n",
      "    5 exit\n",
      "     1\n",
      "enter any number: 10\n"
     ]
    },
    {
     "name": "stdout",
     "output_type": "stream",
     "text": [
      "['10']\n"
     ]
    },
    {
     "name": "stdin",
     "output_type": "stream",
     "text": [
      "\n",
      "    1 push\n",
      "    2 pop\n",
      "    3 peek\n",
      "    4 display stack\n",
      "    5 exit\n",
      "     2\n"
     ]
    },
    {
     "name": "stdout",
     "output_type": "stream",
     "text": [
      "10\n",
      "[]\n"
     ]
    },
    {
     "name": "stdin",
     "output_type": "stream",
     "text": [
      "\n",
      "    1 push\n",
      "    2 pop\n",
      "    3 peek\n",
      "    4 display stack\n",
      "    5 exit\n",
      "     3\n"
     ]
    },
    {
     "name": "stdout",
     "output_type": "stream",
     "text": [
      "empty stack\n"
     ]
    },
    {
     "name": "stdin",
     "output_type": "stream",
     "text": [
      "\n",
      "    1 push\n",
      "    2 pop\n",
      "    3 peek\n",
      "    4 display stack\n",
      "    5 exit\n",
      "     4\n"
     ]
    },
    {
     "name": "stdout",
     "output_type": "stream",
     "text": [
      "display stack: 1\n"
     ]
    },
    {
     "name": "stdin",
     "output_type": "stream",
     "text": [
      "\n",
      "    1 push\n",
      "    2 pop\n",
      "    3 peek\n",
      "    4 display stack\n",
      "    5 exit\n",
      "     5\n"
     ]
    }
   ],
   "source": [
    "l=[]\n",
    "while True:\n",
    "    ch=int(input('''\n",
    "    1 push\n",
    "    2 pop\n",
    "    3 peek\n",
    "    4 display stack\n",
    "    5 exit\n",
    "    '''))\n",
    "    if ch==1:\n",
    "        n=input(\"enter any number:\")\n",
    "        l.append(n)\n",
    "        print(l)\n",
    "    elif ch==2:\n",
    "        if len(l)==0:\n",
    "            print(\"empty stack\")\n",
    "        else:\n",
    "            p=l.pop()\n",
    "            print(p)\n",
    "            print(l)\n",
    "    elif ch==3:\n",
    "        if len(l)==0:\n",
    "            print(\"empty stack\")\n",
    "        else:\n",
    "            print(\"last element:\",l[-1])\n",
    "    elif ch==4:\n",
    "        print(\"display stack:\",1)\n",
    "    elif ch==5:\n",
    "        break\n",
    "    else:\n",
    "        print(\"invalid input\")\n",
    "        \n",
    "        "
   ]
  },
  {
   "cell_type": "code",
   "execution_count": null,
   "id": "4ab3f1e0-5a73-451b-aef3-d90ebe90e32f",
   "metadata": {},
   "outputs": [],
   "source": [
    "l=[]\n",
    "while True:\n",
    "    ch=int(input('''\n",
    "    1 enqueue\n",
    "    2 dequeue\n",
    "    3 front elemnt\n",
    "    4 rear element\n",
    "    5 display\n",
    "    6 exit\n",
    "    '''))\n",
    "    if ch==1:\n",
    "        n= input(\" enter any number :\")\n",
    "        l.append(n)\n",
    "        print(l)\n",
    "    elif ch==2:\n",
    "        if len(l)==0:\n",
    "            print(\"empty queue\")\n",
    "        else :\n",
    "            p=l.pop(0)\n",
    "            print(p)\n",
    "            print(l)\n",
    "    elif ch==3:\n",
    "        if len(l)==0:\n",
    "            print(\"empty queue\")\n",
    "        else:\n",
    "            print(\"front element:\",1[0])\n",
    "    elif ch==4:\n",
    "        if len(l)==0:\n",
    "            print(\"empty queue\")\n",
    "        else:\n",
    "            print(\"rear element:\",1[-1])\n",
    "    elif ch==5:\n",
    "        print(\"display queue:\",l)\n",
    "    elif ch==6:\n",
    "        break\n",
    "    else:\n",
    "        print(\"invalid input\")\n",
    "        \n",
    "      \n",
    "            "
   ]
  },
  {
   "cell_type": "code",
   "execution_count": 1,
   "id": "f46c76f9-f6ce-45fe-96d4-cbc0d546fbfe",
   "metadata": {},
   "outputs": [
    {
     "name": "stdout",
     "output_type": "stream",
     "text": [
      "(10,)\n",
      "<class 'tuple'>\n"
     ]
    }
   ],
   "source": [
    "# tuple -\n",
    "# single value tuple\n",
    "t=(10,)\n",
    "print(t)\n",
    "print(type(t))"
   ]
  },
  {
   "cell_type": "code",
   "execution_count": 4,
   "id": "d270662c-e618-4965-ad25-ae68f2e8d59c",
   "metadata": {},
   "outputs": [
    {
     "name": "stdout",
     "output_type": "stream",
     "text": [
      "10\n",
      "20\n",
      "30\n",
      "hello\n",
      "10.5\n"
     ]
    }
   ],
   "source": [
    "# iteration\n",
    "t=(10,20,30,\"hello\",10.5)\n",
    "for i in t:\n",
    "    print(i)"
   ]
  },
  {
   "cell_type": "code",
   "execution_count": 4,
   "id": "bbfb63b9-bb24-4df7-9f78-91bfa65916f3",
   "metadata": {},
   "outputs": [
    {
     "name": "stdout",
     "output_type": "stream",
     "text": [
      "0\n"
     ]
    }
   ],
   "source": [
    "# indexing\n",
    "t=(10,20,30,\"hello\",10.5)\n",
    "print(t.index(10))\n"
   ]
  },
  {
   "cell_type": "code",
   "execution_count": 3,
   "id": "3640d073-8f02-4efa-8375-878cb1570495",
   "metadata": {},
   "outputs": [
    {
     "name": "stdout",
     "output_type": "stream",
     "text": [
      "10\n",
      "20\n",
      "30\n",
      "hello\n",
      "40\n"
     ]
    }
   ],
   "source": [
    "t=(10,20,30,\"hello\",40)\n",
    "for i in range(len(t)):\n",
    "    print(t[i])"
   ]
  },
  {
   "cell_type": "code",
   "execution_count": 5,
   "id": "9e3c77e2-ccea-4a7b-8af2-8748fc06b84b",
   "metadata": {},
   "outputs": [
    {
     "name": "stdout",
     "output_type": "stream",
     "text": [
      "5\n"
     ]
    }
   ],
   "source": [
    "# function\n",
    "# len()\n",
    "t=(10,20,30,\"hello\",10.5)\n",
    "print(len(t))"
   ]
  },
  {
   "cell_type": "code",
   "execution_count": 6,
   "id": "83183700-e491-4cd5-bc25-acb69959a8ae",
   "metadata": {},
   "outputs": [
    {
     "name": "stdout",
     "output_type": "stream",
     "text": [
      "5\n"
     ]
    }
   ],
   "source": [
    "t=(10,20,30,\"hello\",10.5)\n",
    "count=0\n",
    "for i in t:\n",
    "    count=count+1\n",
    "print(count)"
   ]
  },
  {
   "cell_type": "code",
   "execution_count": 8,
   "id": "ed2eef8d-7794-4ccb-bf10-be902dace31d",
   "metadata": {},
   "outputs": [
    {
     "name": "stdout",
     "output_type": "stream",
     "text": [
      "100\n",
      "-12\n"
     ]
    }
   ],
   "source": [
    "t=(100,20,30,-12,100.0)\n",
    "print(max(t))\n",
    "print(min(t))"
   ]
  },
  {
   "cell_type": "code",
   "execution_count": 9,
   "id": "b691ae81-ec47-4e75-b3e3-a7dba4dea55c",
   "metadata": {},
   "outputs": [
    {
     "name": "stdout",
     "output_type": "stream",
     "text": [
      "[-12, 20, 30, 100]\n"
     ]
    }
   ],
   "source": [
    "t=(100,20,30,-12)\n",
    "t1=sorted(t)\n",
    "print(t1)"
   ]
  },
  {
   "cell_type": "code",
   "execution_count": 14,
   "id": "d06167c0-cc7f-4dd3-9b4e-13b7b9c14317",
   "metadata": {},
   "outputs": [
    {
     "name": "stdout",
     "output_type": "stream",
     "text": [
      "[-12, 20, 30, 100]\n"
     ]
    }
   ],
   "source": [
    "t=(100,20,30,-12)\n",
    "l=list(t)\n",
    "for i in range(len(l)):\n",
    "    for j in range(i+1,len(l)):\n",
    "        if l[i]>l[j]:\n",
    "             l[i],l[j]=l[j],l[i]\n",
    "print(l)"
   ]
  },
  {
   "cell_type": "code",
   "execution_count": 15,
   "id": "c588348f-3f53-4816-95aa-85b3c15d0505",
   "metadata": {},
   "outputs": [
    {
     "name": "stdout",
     "output_type": "stream",
     "text": [
      "150\n"
     ]
    }
   ],
   "source": [
    "# sum function \n",
    "t=(10,20,30,40,50)\n",
    "print(sum(t))"
   ]
  },
  {
   "cell_type": "code",
   "execution_count": 16,
   "id": "b195cdce-b30e-4bb2-9d1e-7020995b9021",
   "metadata": {},
   "outputs": [
    {
     "name": "stdout",
     "output_type": "stream",
     "text": [
      "1\n"
     ]
    }
   ],
   "source": [
    "# methods\n",
    "# count()-\n",
    "t=(10,20,30,40,10,100,200,10,200,30)\n",
    "print(t.count(20))"
   ]
  },
  {
   "cell_type": "code",
   "execution_count": 17,
   "id": "74f2919a-4a09-4783-9d9a-94d4221fd9e0",
   "metadata": {},
   "outputs": [
    {
     "name": "stdout",
     "output_type": "stream",
     "text": [
      "0\n"
     ]
    }
   ],
   "source": [
    "# indexing()\n",
    "# tupleobj.index(value,[start],[stop])\n",
    "t=(10,20,30,40,10,100,200,10,200,30)\n",
    "print(t.index(10))"
   ]
  },
  {
   "cell_type": "code",
   "execution_count": 18,
   "id": "67504d49-965d-4d7a-a6af-c79c561d2a90",
   "metadata": {},
   "outputs": [
    {
     "name": "stdout",
     "output_type": "stream",
     "text": [
      "(10, 20, 30, 40, 10, 100, 200, 10, 200, 30, 100000, 20, 300)\n"
     ]
    }
   ],
   "source": [
    "t1=(10,20,30,40,10,100,200,10,200,30)\n",
    "t2=(100000,20,300)\n",
    "t3=t1+t2\n",
    "print(t3)"
   ]
  },
  {
   "cell_type": "code",
   "execution_count": 5,
   "id": "181d794e-e8aa-40b4-9b15-2bb6123bd759",
   "metadata": {},
   "outputs": [
    {
     "name": "stdout",
     "output_type": "stream",
     "text": [
      "welcome to city of lakes\n"
     ]
    }
   ],
   "source": [
    "t=(\"welcome\",\"to\",\"city\",\"of\",\"lakes\")\n",
    "# \"welcome to city of lakes\"\n",
    "t1=\" \".join(t)\n",
    "print(t1)"
   ]
  },
  {
   "cell_type": "code",
   "execution_count": 1,
   "id": "77e4cb89-1907-4d58-b421-de9470452c7a",
   "metadata": {},
   "outputs": [
    {
     "name": "stdout",
     "output_type": "stream",
     "text": [
      "mean: 6.357142857142857\n"
     ]
    }
   ],
   "source": [
    "l=[10,1,2,11,7,8,8,7,4,5,5,12,5,4]\n",
    "mean=sum(l)/len(l)\n",
    "print(\"mean:\",mean)"
   ]
  },
  {
   "cell_type": "code",
   "execution_count": 12,
   "id": "d85ef7ff-c884-4aa9-ae98-818ec4d625c3",
   "metadata": {},
   "outputs": [
    {
     "name": "stdout",
     "output_type": "stream",
     "text": [
      "Median: 7\n"
     ]
    }
   ],
   "source": [
    "l=[10,1,2,11,7,8,8,7,4,5,5,12,5,4]\n",
    "n = len(l)\n",
    "median = l[n // 2]\n",
    "print(\"Median:\", median)\n",
    "\n"
   ]
  },
  {
   "cell_type": "code",
   "execution_count": null,
   "id": "4f4c8127-45af-465d-8928-3c4df56cb8ed",
   "metadata": {},
   "outputs": [],
   "source": []
  }
 ],
 "metadata": {
  "kernelspec": {
   "display_name": "Python 3 (ipykernel)",
   "language": "python",
   "name": "python3"
  },
  "language_info": {
   "codemirror_mode": {
    "name": "ipython",
    "version": 3
   },
   "file_extension": ".py",
   "mimetype": "text/x-python",
   "name": "python",
   "nbconvert_exporter": "python",
   "pygments_lexer": "ipython3",
   "version": "3.12.7"
  }
 },
 "nbformat": 4,
 "nbformat_minor": 5
}
