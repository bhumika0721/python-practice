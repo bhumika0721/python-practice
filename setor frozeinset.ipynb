{
 "cells": [
  {
   "cell_type": "code",
   "execution_count": 1,
   "id": "3dd5ccb6-fdd5-4fff-b936-d37bea0c93ea",
   "metadata": {},
   "outputs": [
    {
     "name": "stdout",
     "output_type": "stream",
     "text": [
      "<class 'set'>\n"
     ]
    }
   ],
   "source": [
    "# set-unordred ,unindex ,mutble\n",
    "# stores unique  element\n",
    "s=set()\n",
    "print(type(s))"
   ]
  },
  {
   "cell_type": "code",
   "execution_count": 2,
   "id": "d020cc0e-733d-43d9-9d30-8926eaf4a238",
   "metadata": {},
   "outputs": [
    {
     "name": "stdout",
     "output_type": "stream",
     "text": [
      "{10.5, 20, 'hello', 10, 30}\n"
     ]
    }
   ],
   "source": [
    "s={10,20,30,\"hello\",10.5}\n",
    "print(s)"
   ]
  },
  {
   "cell_type": "code",
   "execution_count": 3,
   "id": "99e30cd4-65bb-49dd-a85c-651199d01bda",
   "metadata": {},
   "outputs": [
    {
     "name": "stdout",
     "output_type": "stream",
     "text": [
      "10.5\n",
      "20\n",
      "hello\n",
      "10\n",
      "30\n"
     ]
    }
   ],
   "source": [
    "# iteration\n",
    "s={10,20,30,\"hello\",10.5}\n",
    "for i in s:\n",
    "    print(i)"
   ]
  },
  {
   "cell_type": "code",
   "execution_count": 4,
   "id": "21d048c4-0c05-45e6-a08e-5516365490fb",
   "metadata": {},
   "outputs": [
    {
     "name": "stdout",
     "output_type": "stream",
     "text": [
      "{10.5, 20, 1000, 'hello', 10, 30}\n"
     ]
    }
   ],
   "source": [
    "# method-add. -add elemet to an existing structure\n",
    "\n",
    "s={10,20,30,\"hello\",10.5}\n",
    "s.add(1000)\n",
    "print(s)"
   ]
  },
  {
   "cell_type": "code",
   "execution_count": 5,
   "id": "27dc71f5-0ff1-4b7d-b29d-e59015ab35c8",
   "metadata": {},
   "outputs": [
    {
     "name": "stdout",
     "output_type": "stream",
     "text": [
      "10.5\n",
      "{20, 'hello', 10, 30}\n"
     ]
    }
   ],
   "source": [
    "# remove element to an existing structure -pop(),remove(),clear(),discard()\n",
    "s={10,20,30,\"hello\",10.5}\n",
    "p=s.pop()\n",
    "print(p)\n",
    "print(s)"
   ]
  },
  {
   "cell_type": "code",
   "execution_count": 6,
   "id": "d5033636-0fda-45a8-b21b-51dde52dc4c1",
   "metadata": {},
   "outputs": [
    {
     "name": "stdout",
     "output_type": "stream",
     "text": [
      "{10.5, 20, 10, 30}\n"
     ]
    }
   ],
   "source": [
    "#remove()\n",
    "# strobj.remove(value)\n",
    "s={10,20,30,\"hello\",10.5}\n",
    "s.remove(\"hello\")\n",
    "print(s)"
   ]
  },
  {
   "cell_type": "code",
   "execution_count": 7,
   "id": "6c11d3c9-17ea-4583-a300-7eed49ffafed",
   "metadata": {},
   "outputs": [
    {
     "ename": "KeyError",
     "evalue": "10000",
     "output_type": "error",
     "traceback": [
      "\u001b[1;31m---------------------------------------------------------------------------\u001b[0m",
      "\u001b[1;31mKeyError\u001b[0m                                  Traceback (most recent call last)",
      "Cell \u001b[1;32mIn[7], line 2\u001b[0m\n\u001b[0;32m      1\u001b[0m s\u001b[38;5;241m=\u001b[39m{\u001b[38;5;241m10\u001b[39m,\u001b[38;5;241m20\u001b[39m,\u001b[38;5;241m30\u001b[39m,\u001b[38;5;124m\"\u001b[39m\u001b[38;5;124mhello\u001b[39m\u001b[38;5;124m\"\u001b[39m,\u001b[38;5;241m10.5\u001b[39m}\n\u001b[1;32m----> 2\u001b[0m s\u001b[38;5;241m.\u001b[39mremove(\u001b[38;5;241m10000\u001b[39m)\n\u001b[0;32m      3\u001b[0m \u001b[38;5;28mprint\u001b[39m(s)\n",
      "\u001b[1;31mKeyError\u001b[0m: 10000"
     ]
    }
   ],
   "source": [
    "s={10,20,30,\"hello\",10.5}\n",
    "s.remove(10000)\n",
    "print(s)"
   ]
  },
  {
   "cell_type": "code",
   "execution_count": 8,
   "id": "950681f7-e8a8-4fdd-bcc2-bf0592aab573",
   "metadata": {},
   "outputs": [
    {
     "name": "stdout",
     "output_type": "stream",
     "text": [
      "{10.5, 20, 'hello', 10, 30}\n"
     ]
    }
   ],
   "source": [
    "# discard()\n",
    "# strobj.discard(value)\n",
    "s={10,20,30,\"hello\",10.5}\n",
    "s.discard(10000)\n",
    "print(s)"
   ]
  },
  {
   "cell_type": "code",
   "execution_count": 9,
   "id": "9e1957ba-cf40-42cc-875d-8d4218ca2f1d",
   "metadata": {},
   "outputs": [
    {
     "name": "stdout",
     "output_type": "stream",
     "text": [
      "{20, 'hello', 10, 30}\n"
     ]
    }
   ],
   "source": [
    "s={10,20,30,\"hello\",10.5}\n",
    "s.discard(10.5)\n",
    "print(s)"
   ]
  },
  {
   "cell_type": "code",
   "execution_count": 10,
   "id": "268c05d2-b678-4226-94e0-b7f660560795",
   "metadata": {},
   "outputs": [
    {
     "name": "stdout",
     "output_type": "stream",
     "text": [
      "set()\n"
     ]
    }
   ],
   "source": [
    "# clear()\n",
    "s={10,20,30,\"hello\",10.5}\n",
    "s.clear()\n",
    "print(s)"
   ]
  },
  {
   "cell_type": "code",
   "execution_count": 11,
   "id": "538ee55b-c1d5-42d4-b091-3f30596437a6",
   "metadata": {},
   "outputs": [
    {
     "name": "stdout",
     "output_type": "stream",
     "text": [
      "{10.5, 20, 100, 200, 'hello', 10, 300, 30}\n"
     ]
    }
   ],
   "source": [
    "# update()\n",
    "# setobj.update(set/iterablees)\n",
    "s={10,20,30,\"hello\",10.5}\n",
    "s.update({100,200,300})\n",
    "print(s)"
   ]
  },
  {
   "cell_type": "code",
   "execution_count": 12,
   "id": "cdbf39ac-3e33-49fe-b0ae-fce841557b0e",
   "metadata": {},
   "outputs": [
    {
     "name": "stdout",
     "output_type": "stream",
     "text": [
      "{10.5, 20, 100, 200, 'hello', 10, 300, 30}\n"
     ]
    }
   ],
   "source": [
    "s={10,20,30,\"hello\",10.5}\n",
    "s.update([100,200,300])\n",
    "print(s)"
   ]
  },
  {
   "cell_type": "code",
   "execution_count": 14,
   "id": "3e4fe688-2a0e-422c-a424-bf23cc3a7c2a",
   "metadata": {},
   "outputs": [
    {
     "name": "stdout",
     "output_type": "stream",
     "text": [
      "{10.5, 10, 'hello', 20, 'o', 30, 'm', 'y', 'r', 'b', 'c'}\n"
     ]
    }
   ],
   "source": [
    "s={10,20,30,\"hello\",10.5}\n",
    "s.update(\"cybrom\")\n",
    "print(s)"
   ]
  },
  {
   "cell_type": "code",
   "execution_count": 16,
   "id": "2bdd9d31-e770-4d3b-8643-51c4c947f0ac",
   "metadata": {},
   "outputs": [
    {
     "name": "stdout",
     "output_type": "stream",
     "text": [
      "{10.5, 20, 100, 200, 'hello', 10, 300, 30}\n"
     ]
    }
   ],
   "source": [
    "s={10,20,30,\"hello\",10.5}\n",
    "s.update((100,200,300))\n",
    "print(s)"
   ]
  },
  {
   "cell_type": "code",
   "execution_count": 17,
   "id": "d15e49a3-69ad-4800-9f21-be5eac71874a",
   "metadata": {},
   "outputs": [
    {
     "name": "stdout",
     "output_type": "stream",
     "text": [
      "union: {1, 2, 3, 5, 40, 10, 11, 14, 15, 16}\n",
      "intersection: {40, 11}\n",
      "difference: {1, 2, 3, 5, 10}\n",
      "symmetric_difference: {1, 2, 3, 5, 10, 14, 15, 16}\n"
     ]
    }
   ],
   "source": [
    "# set operations\n",
    "# union|\n",
    "# intersection &\n",
    "# difference-\n",
    "# symmentric_different-^\n",
    "s1={1,3,2,5,11,10,40}\n",
    "s2={11,16,15,14,40}\n",
    "print(\"union:\",s1.union(s2))\n",
    "print(\"intersection:\",s1.intersection(s2))\n",
    "print(\"difference:\",s1.difference(s2))\n",
    "print(\"symmetric_difference:\",s1.symmetric_difference(s2))"
   ]
  },
  {
   "cell_type": "code",
   "execution_count": 18,
   "id": "4953fb3a-eabc-4f80-af13-de2fee76bd80",
   "metadata": {},
   "outputs": [
    {
     "name": "stdout",
     "output_type": "stream",
     "text": [
      "{1, 2, 3, 5, 40, 10, 11, 14, 15, 16}\n",
      "{40, 11}\n",
      "{1, 2, 3, 5, 10, 14, 15, 16}\n",
      "{1, 2, 3, 5, 10}\n"
     ]
    }
   ],
   "source": [
    "s1={1,3,2,5,11,10,40}\n",
    "s2={11,16,15,14,40}\n",
    "print(s1|s2)\n",
    "print(s1&s2)\n",
    "print(s1^s2)\n",
    "print(s1-s2)"
   ]
  },
  {
   "cell_type": "code",
   "execution_count": 19,
   "id": "03399593-faa5-4dc4-b73c-4552854710ff",
   "metadata": {},
   "outputs": [
    {
     "name": "stdout",
     "output_type": "stream",
     "text": [
      "frozenset({'hello', 10, 20, 30})\n"
     ]
    }
   ],
   "source": [
    "# frozenset()\n",
    "f=frozenset({10,20,30,\"hello\"})\n",
    "print(f)"
   ]
  },
  {
   "cell_type": "code",
   "execution_count": null,
   "id": "8ddb5fbf-d785-480f-b85a-f8daa11ec9f8",
   "metadata": {},
   "outputs": [],
   "source": [
    "# types of function\n",
    "# pre-define\n",
    "#user- function\n",
    "# function-block of code to perform specific task \n",
    "# characteristic-resuseablity,maintainablity"
   ]
  },
  {
   "cell_type": "code",
   "execution_count": 3,
   "id": "e4e9439f-e392-443a-b399-2653f9770778",
   "metadata": {},
   "outputs": [],
   "source": [
    "# without argument without return type\n",
    "def sum():\n",
    "    a=int(input(\"enter any number:\"))\n",
    "    b=int(input(\"enter any number:\"))\n",
    "    c=a+b\n",
    "    print(c)"
   ]
  },
  {
   "cell_type": "code",
   "execution_count": 4,
   "id": "ad9d8b7c-921a-4fc1-96d3-05b98c377246",
   "metadata": {},
   "outputs": [
    {
     "name": "stdin",
     "output_type": "stream",
     "text": [
      "enter any number: 10\n",
      "enter any number: 30\n"
     ]
    },
    {
     "name": "stdout",
     "output_type": "stream",
     "text": [
      "40\n"
     ]
    }
   ],
   "source": [
    "sum()"
   ]
  },
  {
   "cell_type": "code",
   "execution_count": 8,
   "id": "5605f4bd-36fa-4400-a95b-628025845768",
   "metadata": {},
   "outputs": [],
   "source": [
    "# without argument with return type \n",
    "def diff():\n",
    "        a=int(input(\"enter any number:\"))\n",
    "        b=int(input(\"enter any number:\"))\n",
    "        c=a-b\n",
    "        return(c)"
   ]
  },
  {
   "cell_type": "code",
   "execution_count": 9,
   "id": "56d71590-5b94-42da-9afa-636279f75e73",
   "metadata": {},
   "outputs": [
    {
     "name": "stdin",
     "output_type": "stream",
     "text": [
      "enter any number: 20\n",
      "enter any number: 10\n"
     ]
    },
    {
     "data": {
      "text/plain": [
       "10"
      ]
     },
     "execution_count": 9,
     "metadata": {},
     "output_type": "execute_result"
    }
   ],
   "source": [
    "diff()"
   ]
  },
  {
   "cell_type": "code",
   "execution_count": 10,
   "id": "f708699f-0171-40c2-b490-9fc6fe82118f",
   "metadata": {},
   "outputs": [],
   "source": [
    "#with argument   without return type\n",
    "def mult(a,b):\n",
    "    c=a*b\n",
    "    print(c)\n",
    "    \n",
    "    "
   ]
  },
  {
   "cell_type": "code",
   "execution_count": 11,
   "id": "1187e675-46f4-4db1-b34c-e7e01096518f",
   "metadata": {},
   "outputs": [
    {
     "name": "stdin",
     "output_type": "stream",
     "text": [
      "enter any number: 20\n",
      "enter any number: 12\n"
     ]
    },
    {
     "name": "stdout",
     "output_type": "stream",
     "text": [
      "240\n"
     ]
    }
   ],
   "source": [
    "x=int(input(\"enter any number:\"))\n",
    "y=int(input(\"enter any number:\"))\n",
    "mult(x,y)"
   ]
  },
  {
   "cell_type": "code",
   "execution_count": 12,
   "id": "3ca900ea-e18a-488d-96f1-ae899aa5c247",
   "metadata": {},
   "outputs": [],
   "source": [
    "def mult(a,b=2):\n",
    "    c=a*b\n",
    "    print(c)"
   ]
  },
  {
   "cell_type": "code",
   "execution_count": 13,
   "id": "f21afc1e-974a-4c0d-997f-1c9af0a64ec5",
   "metadata": {},
   "outputs": [
    {
     "name": "stdout",
     "output_type": "stream",
     "text": [
      "20\n"
     ]
    }
   ],
   "source": [
    "mult(10)"
   ]
  },
  {
   "cell_type": "code",
   "execution_count": 14,
   "id": "dda8f77c-9d09-4bb4-8f3c-81561945e75d",
   "metadata": {},
   "outputs": [],
   "source": [
    "# with argument with return type \n",
    "def div(a,b):\n",
    "    return a/b"
   ]
  },
  {
   "cell_type": "code",
   "execution_count": 15,
   "id": "86f7ba7a-5572-443b-8535-18ae36233098",
   "metadata": {},
   "outputs": [
    {
     "data": {
      "text/plain": [
       "5.0"
      ]
     },
     "execution_count": 15,
     "metadata": {},
     "output_type": "execute_result"
    }
   ],
   "source": [
    "div(10,2)"
   ]
  },
  {
   "cell_type": "code",
   "execution_count": null,
   "id": "f869af6b-eb06-49a4-a8a5-4d7f5f2a37c5",
   "metadata": {},
   "outputs": [],
   "source": [
    "# wap function to checj whether year is leap or not \n",
    "# wap function to print fibbonaci series upto nth term(with argument with return type)\n",
    "# wap function to check wheather a number is prime or not\n",
    "# wap funtion to print prime number between 1-100"
   ]
  },
  {
   "cell_type": "code",
   "execution_count": 5,
   "id": "6be3d8c7-7fc4-49c0-9d2b-f2ddc0a1f49b",
   "metadata": {},
   "outputs": [],
   "source": [
    "def fibo_series(n):\n",
    "    a=0\n",
    "    b=1\n",
    "    fib=[a,b]\n",
    "    for i in range(2,n):\n",
    "        c=a+b\n",
    "        fib.append(c)\n",
    "        a=b\n",
    "        b=c\n",
    "    return fib"
   ]
  },
  {
   "cell_type": "code",
   "execution_count": 6,
   "id": "210e20ff-a8fb-41ce-be8f-3710c26ce81d",
   "metadata": {},
   "outputs": [
    {
     "data": {
      "text/plain": [
       "[0, 1, 1, 2, 3, 5, 8, 13]"
      ]
     },
     "execution_count": 6,
     "metadata": {},
     "output_type": "execute_result"
    }
   ],
   "source": [
    "fibo_series(8)"
   ]
  },
  {
   "cell_type": "code",
   "execution_count": 7,
   "id": "d19146f7-8089-4cb0-92ef-4f7f7971e740",
   "metadata": {},
   "outputs": [],
   "source": [
    "def fibo1(n):\n",
    "    if n==0:\n",
    "        return[0]\n",
    "    elif n==1:\n",
    "        return[0,1]\n",
    "    else   :\n",
    "        fibo=[0,1]\n",
    "        for i in range(2,n):\n",
    "            next_term=fibo[-1]+fibo[-2]\n",
    "            fibo.append(next_term)\n",
    "        return fibo    "
   ]
  },
  {
   "cell_type": "code",
   "execution_count": 8,
   "id": "2a96f20f-e771-41a9-a8fb-4cac96160df6",
   "metadata": {},
   "outputs": [
    {
     "data": {
      "text/plain": [
       "[0, 1, 1]"
      ]
     },
     "execution_count": 8,
     "metadata": {},
     "output_type": "execute_result"
    }
   ],
   "source": [
    "fibo1(3)"
   ]
  },
  {
   "cell_type": "code",
   "execution_count": 2,
   "id": "cf937562-6895-44b9-8619-69f7f0e4c6f1",
   "metadata": {},
   "outputs": [],
   "source": [
    "def prime(n):\n",
    "    if n==0 or n==1:\n",
    "        return n,\"not a prime\"\n",
    "    elif n>1:\n",
    "        for i in range(2,n):\n",
    "            if n%i==0:\n",
    "                return n,\"not a prime\"\n",
    "                break\n",
    "            else:\n",
    "                return n,\"prime number\"\n",
    "        else:\n",
    "               return n,\"not a prime\""
   ]
  },
  {
   "cell_type": "code",
   "execution_count": 3,
   "id": "86d54288-4096-481b-a057-9251702e8acd",
   "metadata": {},
   "outputs": [
    {
     "data": {
      "text/plain": [
       "(5, 'prime number')"
      ]
     },
     "execution_count": 3,
     "metadata": {},
     "output_type": "execute_result"
    }
   ],
   "source": [
    "prime(5)"
   ]
  },
  {
   "cell_type": "code",
   "execution_count": 4,
   "id": "9ae88807-26fb-4b9f-bbaf-a12454b77547",
   "metadata": {},
   "outputs": [],
   "source": [
    "def prime1(n):\n",
    "    if n==0 or n==1:\n",
    "        return False\n",
    "    elif n>1:\n",
    "        for i in range(2,n):\n",
    "            if n%i==0:\n",
    "                return False\n",
    "                break\n",
    "            else:\n",
    "                return True\n",
    "    else:\n",
    "        return False"
   ]
  },
  {
   "cell_type": "code",
   "execution_count": 5,
   "id": "267f5029-f2ae-4541-b369-75a6c058d627",
   "metadata": {},
   "outputs": [
    {
     "name": "stdin",
     "output_type": "stream",
     "text": [
      "enter any number 4\n",
      "enter any number 2\n"
     ]
    },
    {
     "name": "stdout",
     "output_type": "stream",
     "text": [
      "4 not prime\n"
     ]
    }
   ],
   "source": [
    "x=int(input(\"enter any number\"))\n",
    "y=int(input(\"enter any number\"))\n",
    "if prime1(x):\n",
    "    print(x,\"prime number\")\n",
    "else:\n",
    "    print(x,\"not prime\")"
   ]
  },
  {
   "cell_type": "code",
   "execution_count": 5,
   "id": "fc9f1614-1586-4605-9a24-5367920dcca2",
   "metadata": {},
   "outputs": [],
   "source": [
    "def prime_number(start,stop):\n",
    "   l=[]\n",
    "   for n in range(start,stop+1):\n",
    "     if n>1:\n",
    "        for i in range(2,n):\n",
    "            if n%i==0:\n",
    "                break\n",
    "            else :\n",
    "                l.append(n)\n",
    "   return l                "
   ]
  },
  {
   "cell_type": "code",
   "execution_count": 12,
   "id": "50bd6c29-e879-46ee-9940-4a41bee7c4cc",
   "metadata": {},
   "outputs": [],
   "source": [
    "def arm(n):\n",
    "    a=len(str(n))\n",
    "    old=n\n",
    "    sumdigit=0\n",
    "    while n!=0:\n",
    "        dig=n%10\n",
    "        sumdigit=sumdigit+(dig**a)\n",
    "        n=n//10\n",
    "        return old==sumdigit"
   ]
  },
  {
   "cell_type": "code",
   "execution_count": 14,
   "id": "b0b991ec-bf52-449a-ad5b-4db0ee78620e",
   "metadata": {},
   "outputs": [
    {
     "name": "stdin",
     "output_type": "stream",
     "text": [
      "enter any number 34\n"
     ]
    },
    {
     "name": "stdout",
     "output_type": "stream",
     "text": [
      "34 not a armstrong\n"
     ]
    }
   ],
   "source": [
    "x=int(input(\"enter any number\"))\n",
    "if arm(x):\n",
    "    print(x,\"armstrong\")\n",
    "else:\n",
    "    print(x,\"not a armstrong\")"
   ]
  },
  {
   "cell_type": "code",
   "execution_count": 7,
   "id": "71e5e614-7b10-4e3a-a633-9205f81b81d4",
   "metadata": {},
   "outputs": [],
   "source": [
    "# w.a.p. function to return max of 3 number with argument with return type \n",
    "def max_of_two(x,y):\n",
    "    if x>y:\n",
    "        return x\n",
    "    else:\n",
    "        return y\n",
    "def max_of_three(a,b,c):\n",
    "    return max_of_two(a,max_of_two(b,c))"
   ]
  },
  {
   "cell_type": "code",
   "execution_count": 8,
   "id": "1ec5509b-1db0-4490-a61b-de728d8bf54e",
   "metadata": {},
   "outputs": [
    {
     "data": {
      "text/plain": [
       "1000"
      ]
     },
     "execution_count": 8,
     "metadata": {},
     "output_type": "execute_result"
    }
   ],
   "source": [
    "max_of_three(1000,20,300)"
   ]
  },
  {
   "cell_type": "code",
   "execution_count": 9,
   "id": "7481c371-4aee-430b-8d70-229460d4a1a2",
   "metadata": {},
   "outputs": [],
   "source": [
    "# recursion-itself calling\n",
    "\n",
    "def sum(n):\n",
    "    if n==1:\n",
    "        return n\n",
    "    else:\n",
    "        return n+sum(n-1)"
   ]
  },
  {
   "cell_type": "code",
   "execution_count": 10,
   "id": "465cd085-fb5b-43a2-ab8e-b635eb9bdd05",
   "metadata": {},
   "outputs": [
    {
     "data": {
      "text/plain": [
       "55"
      ]
     },
     "execution_count": 10,
     "metadata": {},
     "output_type": "execute_result"
    }
   ],
   "source": [
    "sum(10)"
   ]
  },
  {
   "cell_type": "code",
   "execution_count": 11,
   "id": "c08356a8-c66e-4924-afd6-9559ad542bc1",
   "metadata": {},
   "outputs": [],
   "source": [
    "# w.a.p. function to print factorial of n number\n",
    "def factorial(n):\n",
    "    if n == 0 or n == 1:\n",
    "        return 1\n",
    "    else:\n",
    "        return n * factorial(n-1)\n",
    "\n"
   ]
  },
  {
   "cell_type": "code",
   "execution_count": 12,
   "id": "3eaf5847-f69d-43ea-81a3-41738e6ad9ff",
   "metadata": {},
   "outputs": [
    {
     "data": {
      "text/plain": [
       "120"
      ]
     },
     "execution_count": 12,
     "metadata": {},
     "output_type": "execute_result"
    }
   ],
   "source": [
    "factorial(5)"
   ]
  },
  {
   "cell_type": "code",
   "execution_count": 13,
   "id": "090420fa-fc5b-4608-b397-f6d2a87a661b",
   "metadata": {},
   "outputs": [],
   "source": [
    "def fact(n):\n",
    "    if n<=1:\n",
    "        return n\n",
    "    else:\n",
    "        return n*fact(n-1)"
   ]
  },
  {
   "cell_type": "code",
   "execution_count": 14,
   "id": "b442f78c-f4bf-40a9-aa6f-c2d874a04257",
   "metadata": {},
   "outputs": [
    {
     "data": {
      "text/plain": [
       "120"
      ]
     },
     "execution_count": 14,
     "metadata": {},
     "output_type": "execute_result"
    }
   ],
   "source": [
    "fact(5)"
   ]
  },
  {
   "cell_type": "code",
   "execution_count": 15,
   "id": "5ad09432-e25d-406d-a3a2-1b8a37578e01",
   "metadata": {},
   "outputs": [],
   "source": [
    "# w.a.p. function to print fibbonacci series upto nth term? rcursion\n",
    "def  fibo(n):\n",
    "    if n==1:\n",
    "        return 0\n",
    "    elif n==2:\n",
    "        return 1\n",
    "    else:\n",
    "        return fibo(n-1)+fibo(n-2)"
   ]
  },
  {
   "cell_type": "code",
   "execution_count": 16,
   "id": "dc4c5817-b57e-40cd-9b39-265c0f39c88f",
   "metadata": {},
   "outputs": [
    {
     "data": {
      "text/plain": [
       "8"
      ]
     },
     "execution_count": 16,
     "metadata": {},
     "output_type": "execute_result"
    }
   ],
   "source": [
    "fibo(7)"
   ]
  },
  {
   "cell_type": "code",
   "execution_count": 18,
   "id": "21e0291b-a6ef-4001-a16d-78938a77be7c",
   "metadata": {},
   "outputs": [
    {
     "name": "stdin",
     "output_type": "stream",
     "text": [
      "enter any number 7\n"
     ]
    },
    {
     "name": "stdout",
     "output_type": "stream",
     "text": [
      "0 1 1 2 3 5 8 "
     ]
    }
   ],
   "source": [
    "x=int(input(\"enter any number\"))\n",
    "for i in range(1,x+1):\n",
    "    print(fibo(i),end=\" \")"
   ]
  },
  {
   "cell_type": "code",
   "execution_count": 29,
   "id": "e6082f88-340e-4efc-80b1-ef16c5231194",
   "metadata": {},
   "outputs": [],
   "source": [
    "# w.a.p. function to print armstrong between  1  to 2000  with argument with return type\n",
    "def arm(start,stop):\n",
    "      l=[]\n",
    "      for n in range(start,stop+1):\n",
    "           a=len(str(n))\n",
    "           old=n\n",
    "           sumdigit=0\n",
    "           while n!=0:\n",
    "                dig=n%10\n",
    "                sumdigit=sumdigit+(dig**a)\n",
    "                n=n//10\n",
    "           if old==sumdigit:\n",
    "                 l.append(sumdigit)\n",
    "      return 1"
   ]
  },
  {
   "cell_type": "code",
   "execution_count": 30,
   "id": "0839edb9-c728-4f66-b92a-797f2b5cff61",
   "metadata": {},
   "outputs": [
    {
     "data": {
      "text/plain": [
       "1"
      ]
     },
     "execution_count": 30,
     "metadata": {},
     "output_type": "execute_result"
    }
   ],
   "source": [
    "arm(1,2000)"
   ]
  },
  {
   "cell_type": "code",
   "execution_count": 1,
   "id": "4e469f2d-300c-436b-8e4e-a69c7c6e3d88",
   "metadata": {},
   "outputs": [
    {
     "name": "stdout",
     "output_type": "stream",
     "text": [
      "125\n"
     ]
    }
   ],
   "source": [
    "# lembda function a function without name it can take multipule number of arguments but have one expression\n",
    "# syntx\n",
    "# lambda argument:expression\n",
    "\n",
    "a=lambda x:x**3\n",
    "print(a(5))"
   ]
  },
  {
   "cell_type": "code",
   "execution_count": 2,
   "id": "203db06b-3429-4c68-8fb8-537fe173c233",
   "metadata": {},
   "outputs": [
    {
     "name": "stdout",
     "output_type": "stream",
     "text": [
      "100\n"
     ]
    }
   ],
   "source": [
    "a=lambda x,y:x**y\n",
    "print(a(10,2))"
   ]
  },
  {
   "cell_type": "code",
   "execution_count": 3,
   "id": "eb80f637-9b35-42da-abde-13bdcc2a1cb4",
   "metadata": {},
   "outputs": [
    {
     "name": "stdout",
     "output_type": "stream",
     "text": [
      "200\n"
     ]
    }
   ],
   "source": [
    "# wap function to print max of three number\n",
    "a=lambda x,y,z:x if x>y and x>z else y if y>x and y>z else z\n",
    "print(a(100,200,20))"
   ]
  },
  {
   "cell_type": "code",
   "execution_count": 4,
   "id": "8b00d02e-5ab3-4286-a81b-e987556cfed1",
   "metadata": {},
   "outputs": [
    {
     "name": "stdout",
     "output_type": "stream",
     "text": [
      "[1, 27, 64, 125, 1000]\n",
      "[1, 27, 64, 125, 1000]\n",
      "[1, 27, 64, 125, 1000]\n"
     ]
    }
   ],
   "source": [
    "# map()-high order function\n",
    "# syntax-map(function,iterables)\n",
    "l=[1,3,4,5,10]\n",
    "l1=[]\n",
    "for i in l:\n",
    "    l1.append(i**3)\n",
    "print(l1)  \n",
    "print([i**3 for i in l])\n",
    "print(list(map(lambda i:i**3,l)))"
   ]
  },
  {
   "cell_type": "code",
   "execution_count": 5,
   "id": "b8d3ebac-0232-48c7-8c4c-744fcb2a2033",
   "metadata": {},
   "outputs": [
    {
     "name": "stdout",
     "output_type": "stream",
     "text": [
      "[5, 16, 27, 1, 16]\n",
      "[5, 16, 27, 1, 16]\n",
      "[5, 16, 27, 1, 16]\n"
     ]
    }
   ],
   "source": [
    "l1=[5,2,3,1,4]\n",
    "l2=[1,4,3,5,2]\n",
    "l=[]\n",
    "for i,j in zip(l1,l2):\n",
    "    l.append(i**j)\n",
    "print(l)\n",
    "print([i**j for i,j in zip(l1,l2)])\n",
    "print(list(map(lambda i,j:i**j,l1,l2)))"
   ]
  },
  {
   "cell_type": "code",
   "execution_count": 6,
   "id": "592740c7-87d6-463a-bdcd-811c6e5be6d3",
   "metadata": {},
   "outputs": [
    {
     "name": "stdout",
     "output_type": "stream",
     "text": [
      "[60, 8, 200]\n",
      "[60, 8, 200]\n",
      "[60, 8, 200]\n"
     ]
    }
   ],
   "source": [
    "l=[[100,60,50],[1,9,7,8],[100,200,300]]\n",
    "# output-[60,8,200]\n",
    "l1=[]\n",
    "for i in l:\n",
    "    l1.append(sorted(i)[-2])\n",
    "print(l1)\n",
    "print([sorted(i)[-2] for i in l])\n",
    "print(list(map(lambda i :sorted(i)[-2],l)))\n",
    "    "
   ]
  },
  {
   "cell_type": "code",
   "execution_count": null,
   "id": "a62aa7f9-552a-4bdb-9ac2-6c91167296cf",
   "metadata": {},
   "outputs": [],
   "source": [
    "l=[\"madam\",\"tech\",\"cybrom\",\"naman\",\"aa\","
   ]
  }
 ],
 "metadata": {
  "kernelspec": {
   "display_name": "Python 3 (ipykernel)",
   "language": "python",
   "name": "python3"
  },
  "language_info": {
   "codemirror_mode": {
    "name": "ipython",
    "version": 3
   },
   "file_extension": ".py",
   "mimetype": "text/x-python",
   "name": "python",
   "nbconvert_exporter": "python",
   "pygments_lexer": "ipython3",
   "version": "3.12.7"
  }
 },
 "nbformat": 4,
 "nbformat_minor": 5
}
