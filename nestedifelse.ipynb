{
 "cells": [
  {
   "cell_type": "code",
   "execution_count": 6,
   "id": "a4b31165-4a4a-4e45-ab00-4840b4781dd9",
   "metadata": {},
   "outputs": [
    {
     "name": "stdin",
     "output_type": "stream",
     "text": [
      "enter marks: 70\n",
      "enter marks: 80\n",
      "enter marks: 50\n",
      "enter marks: 40\n",
      "enter marks: 30\n"
     ]
    },
    {
     "name": "stdout",
     "output_type": "stream",
     "text": [
      "total marks: 270\n",
      "percentage: 54.0 %\n",
      "fail\n"
     ]
    }
   ],
   "source": [
    "sub1=int(input(\"enter marks:\"))\n",
    "sub2=int(input(\"enter marks:\"))\n",
    "sub3=int(input(\"enter marks:\"))\n",
    "sub4=int(input(\"enter marks:\"))\n",
    "sub5=int(input(\"enter marks:\"))\n",
    "t_ob_marks=sub1+sub2+sub3+sub4+sub5\n",
    "print(\"total marks:\",t_ob_marks)\n",
    "per=(t_ob_marks/500)*100\n",
    "print(\"percentage:\",per,\"%\")\n",
    "if per>=90:\n",
    "    print(\"grade A\")\n",
    "elif per>=80:\n",
    "    print(\"grade B\")\n",
    "elif per>=70:\n",
    "    print(\"grade C\")\n",
    "elif per>=60:\n",
    "    print(\"grade D\")\n",
    "else:\n",
    "    print(\"fail\")\n",
    "    "
   ]
  },
  {
   "cell_type": "code",
   "execution_count": null,
   "id": "ec1aa214-d75f-4345-97c8-f872e5f16938",
   "metadata": {},
   "outputs": [],
   "source": [
    "# w.a python program tp check whether a year is leap or not\n",
    "year=int(input"
   ]
  }
 ],
 "metadata": {
  "kernelspec": {
   "display_name": "Python 3 (ipykernel)",
   "language": "python",
   "name": "python3"
  },
  "language_info": {
   "codemirror_mode": {
    "name": "ipython",
    "version": 3
   },
   "file_extension": ".py",
   "mimetype": "text/x-python",
   "name": "python",
   "nbconvert_exporter": "python",
   "pygments_lexer": "ipython3",
   "version": "3.12.7"
  }
 },
 "nbformat": 4,
 "nbformat_minor": 5
}
