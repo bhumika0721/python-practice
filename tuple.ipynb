{
 "cells": [
  {
   "cell_type": "code",
   "execution_count": 1,
   "id": "9902d1bf-4364-4b2c-a963-89d49a059885",
   "metadata": {},
   "outputs": [
    {
     "name": "stdout",
     "output_type": "stream",
     "text": [
      "()\n",
      "<class 'tuple'>\n"
     ]
    }
   ],
   "source": [
    "# tuple-collection of element\n",
    "# denoted by()with comma separated value\n",
    "# ordered,indexed,immutable and heterogeneous in nature\n",
    "t=()\n",
    "print(t)\n",
    "print(type(t))"
   ]
  },
  {
   "cell_type": "code",
   "execution_count": 2,
   "id": "f452ca4d-26ab-4828-a6e1-6ee1a0f09d8d",
   "metadata": {},
   "outputs": [
    {
     "name": "stdout",
     "output_type": "stream",
     "text": [
      "(10, 20, 10.5, 'cybrom', 1000)\n",
      "10.5\n"
     ]
    },
    {
     "ename": "TypeError",
     "evalue": "'tuple' object does not support item assignment",
     "output_type": "error",
     "traceback": [
      "\u001b[1;31m---------------------------------------------------------------------------\u001b[0m",
      "\u001b[1;31mTypeError\u001b[0m                                 Traceback (most recent call last)",
      "Cell \u001b[1;32mIn[2], line 4\u001b[0m\n\u001b[0;32m      2\u001b[0m \u001b[38;5;28mprint\u001b[39m(t)\n\u001b[0;32m      3\u001b[0m \u001b[38;5;28mprint\u001b[39m(t[\u001b[38;5;241m2\u001b[39m]) \n\u001b[1;32m----> 4\u001b[0m t[\u001b[38;5;241m2\u001b[39m]\u001b[38;5;241m=\u001b[39m\u001b[38;5;241m100\u001b[39m\n\u001b[0;32m      5\u001b[0m \u001b[38;5;28mprint\u001b[39m(t)\n",
      "\u001b[1;31mTypeError\u001b[0m: 'tuple' object does not support item assignment"
     ]
    }
   ],
   "source": [
    "t=(10,20,10.5,\"cybrom\",1000)\n",
    "print(t)\n",
    "print(t[2])  #indexed---    \n",
    "t[2]=100\n",
    "print(t)"
   ]
  },
  {
   "cell_type": "code",
   "execution_count": 4,
   "id": "1c62c221-f7d8-4e0c-a6be-37858d8f77ae",
   "metadata": {},
   "outputs": [
    {
     "name": "stdout",
     "output_type": "stream",
     "text": [
      "{}\n",
      "<class 'dict'>\n"
     ]
    }
   ],
   "source": [
    "# dictionary-collection of element\n",
    "# denoted by {k:v}\n",
    "# unindexed, ordered, mutable\n",
    "# key--unique   values--duplicate\n",
    "\n",
    "d={}\n",
    "print(d)\n",
    "print(type(d))"
   ]
  },
  {
   "cell_type": "code",
   "execution_count": 5,
   "id": "9444ef56-99e1-4a64-9cb5-ccf3fcb508bf",
   "metadata": {},
   "outputs": [
    {
     "name": "stdout",
     "output_type": "stream",
     "text": [
      "{'name': 'abc', 'subject': 'Da', 'fees': 4000}\n",
      "Da\n",
      "{'name': 'abc', 'subject': 'DS', 'fees': 4000}\n"
     ]
    }
   ],
   "source": [
    "d={\"name\":\"abc\",\"subject\":\"Da\",\"fees\":4000}\n",
    "print(d)\n",
    "print(d[\"subject\"])\n",
    "d[\"subject\"]=\"DS\"\n",
    "print(d)"
   ]
  },
  {
   "cell_type": "code",
   "execution_count": 6,
   "id": "44f06afe-837f-4d40-9089-7004707b6c6b",
   "metadata": {},
   "outputs": [
    {
     "name": "stdout",
     "output_type": "stream",
     "text": [
      "{'name': 'abc', 'subject': 'Da', 'fees': 4000}\n",
      "{'name': 'abc', 'subject': 'Da', 'fees': 4000, 'NAME': 'cybrom'}\n"
     ]
    }
   ],
   "source": [
    "d={\"name\":\"abc\",\"subject\":\"Da\",\"fees\":4000}\n",
    "print(d)\n",
    "d[\"NAME\"]=\"cybrom\"\n",
    "print(d)"
   ]
  },
  {
   "cell_type": "code",
   "execution_count": 7,
   "id": "bc7bac59-8574-49f1-b651-cfa79449dae3",
   "metadata": {},
   "outputs": [
    {
     "name": "stdout",
     "output_type": "stream",
     "text": [
      "{'name': 'cybrom'}\n"
     ]
    }
   ],
   "source": [
    "d={}\n",
    "d[\"name\"]=\"cybrom\"\n",
    "print(d)"
   ]
  },
  {
   "cell_type": "code",
   "execution_count": 8,
   "id": "7a386017-8be4-4f62-a42f-e8ff7b39c3ee",
   "metadata": {},
   "outputs": [
    {
     "name": "stdout",
     "output_type": "stream",
     "text": [
      "{10.3, 20, 30, 10, 'hello', 110}\n",
      "<class 'set'>\n",
      "{10.3, 20, 30, 'cybrom', 10, 'hello', 110}\n"
     ]
    }
   ],
   "source": [
    "# set-collection of elemnts\n",
    "# denoted by {} with comma separated value\n",
    "# unindexed, unordered , heterogenous ,mutable\n",
    "s={10,20,30,10.3,\"hello\",10,110,10}\n",
    "print(s)\n",
    "print(type(s))\n",
    "s.add(\"cybrom\")\n",
    "print(s)\n"
   ]
  },
  {
   "cell_type": "code",
   "execution_count": 9,
   "id": "2f722555-1c5a-43cc-8e47-5dd62c1890d6",
   "metadata": {},
   "outputs": [
    {
     "name": "stdout",
     "output_type": "stream",
     "text": [
      "set()\n"
     ]
    }
   ],
   "source": [
    "s=set()\n",
    "print(s)"
   ]
  },
  {
   "cell_type": "code",
   "execution_count": null,
   "id": "69da7f1b-4c5f-42ca-a9c6-c23bf1047334",
   "metadata": {},
   "outputs": [],
   "source": [
    "# write a python program to check whether a number is even or odd"
   ]
  }
 ],
 "metadata": {
  "kernelspec": {
   "display_name": "Python 3 (ipykernel)",
   "language": "python",
   "name": "python3"
  },
  "language_info": {
   "codemirror_mode": {
    "name": "ipython",
    "version": 3
   },
   "file_extension": ".py",
   "mimetype": "text/x-python",
   "name": "python",
   "nbconvert_exporter": "python",
   "pygments_lexer": "ipython3",
   "version": "3.12.7"
  }
 },
 "nbformat": 4,
 "nbformat_minor": 5
}
