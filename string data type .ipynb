{
 "cells": [
  {
   "cell_type": "code",
   "execution_count": 27,
   "id": "862255d5-afa4-4ef0-a28a-2144dc915029",
   "metadata": {},
   "outputs": [
    {
     "name": "stdout",
     "output_type": "stream",
     "text": [
      " i love python\n",
      " I LOVE PYTHON\n",
      " I LOVE PYTHON\n",
      " I Love Python\n",
      "False\n",
      "False\n",
      "False\n",
      "3\n",
      "-1\n",
      "000000 i love python\n",
      "[' i l', 've python']\n"
     ]
    }
   ],
   "source": [
    "my_str=' i love python'\n",
    "print (my_str.lower())\n",
    "print (my_str .upper())\n",
    "print (my_str.swapcase())\n",
    "print(my_str.title())\n",
    "print (my_str.isalpha())\n",
    "print (my_str.isnumeric())\n",
    "print (my_str.isdigit())\n",
    "print (my_str.index('love'))\n",
    "print(my_str.find('wel'))\n",
    "print(my_str.zfill(20))\n",
    "#print(my_str.split())\n",
    "#print (my_str.split('o'))\n",
    "print(my_str.split('o',1))"
   ]
  },
  {
   "cell_type": "code",
   "execution_count": 25,
   "id": "6a582b2e-39b2-4529-83ff-685d41b91912",
   "metadata": {},
   "outputs": [
    {
     "name": "stdout",
     "output_type": "stream",
     "text": [
      "['i', 'love python']\n"
     ]
    }
   ],
   "source": [
    "my_str='i love python'\n",
    "print(my_str.split(\" \",1))"
   ]
  },
  {
   "cell_type": "code",
   "execution_count": 21,
   "id": "2c53adf3-e6b8-46df-acf4-5847ce8650d9",
   "metadata": {},
   "outputs": [
    {
     "name": "stdout",
     "output_type": "stream",
     "text": [
      "bhumikapramodchoudhary\n"
     ]
    }
   ],
   "source": [
    "my_str1='bhumika'\n",
    "my_str2='pramod'\n",
    "my_str3='choudhary'\n",
    "print(''.join([my_str1,my_str2,my_str3]))"
   ]
  },
  {
   "cell_type": "code",
   "execution_count": 2,
   "id": "fe1eb31c-f3d7-45aa-af5b-2cdefc3ebeb9",
   "metadata": {},
   "outputs": [
    {
     "name": "stdout",
     "output_type": "stream",
     "text": [
      "7\n"
     ]
    }
   ],
   "source": [
    "my_str='i love python'\n",
    "print(my_str.index('p',4))"
   ]
  },
  {
   "cell_type": "code",
   "execution_count": 5,
   "id": "1de6f6d7-2867-4c40-924a-e836972ad101",
   "metadata": {},
   "outputs": [
    {
     "name": "stdout",
     "output_type": "stream",
     "text": [
      "6\n"
     ]
    }
   ],
   "source": [
    "x=[10,20,30,40,'bhumi','priya',10]\n",
    "print(x.index(10,5))"
   ]
  },
  {
   "cell_type": "code",
   "execution_count": 9,
   "id": "b89afad0-a09a-4908-a251-a4453f768ad4",
   "metadata": {},
   "outputs": [
    {
     "name": "stdout",
     "output_type": "stream",
     "text": [
      "0\n"
     ]
    }
   ],
   "source": [
    "x=[10,20,30,40,'bhumi','priya',10]\n",
    "print(x.index(10,0,5))"
   ]
  },
  {
   "cell_type": "code",
   "execution_count": 10,
   "id": "3893467f-b068-4524-9172-08c182fa658d",
   "metadata": {},
   "outputs": [
    {
     "name": "stdout",
     "output_type": "stream",
     "text": [
      "umika\n"
     ]
    }
   ],
   "source": [
    "str='bhumika'\n",
    "print(str[2::1])"
   ]
  },
  {
   "cell_type": "code",
   "execution_count": 11,
   "id": "bb31e549-7a6d-40ac-8c56-d785a389a287",
   "metadata": {},
   "outputs": [
    {
     "name": "stdout",
     "output_type": "stream",
     "text": [
      "umik\n"
     ]
    }
   ],
   "source": [
    "str='bhumika'\n",
    "print(str[2:6:1])"
   ]
  },
  {
   "cell_type": "code",
   "execution_count": 15,
   "id": "7a75ef0e-426b-4c87-9440-4a4997b9e721",
   "metadata": {},
   "outputs": [
    {
     "name": "stdout",
     "output_type": "stream",
     "text": [
      "\n"
     ]
    }
   ],
   "source": [
    "str='thinktank'\n",
    "print(str[-4:4])"
   ]
  },
  {
   "cell_type": "code",
   "execution_count": null,
   "id": "d3429338-9c40-4938-a9e7-5a3e793c501c",
   "metadata": {},
   "outputs": [],
   "source": []
  }
 ],
 "metadata": {
  "kernelspec": {
   "display_name": "Python 3 (ipykernel)",
   "language": "python",
   "name": "python3"
  },
  "language_info": {
   "codemirror_mode": {
    "name": "ipython",
    "version": 3
   },
   "file_extension": ".py",
   "mimetype": "text/x-python",
   "name": "python",
   "nbconvert_exporter": "python",
   "pygments_lexer": "ipython3",
   "version": "3.12.7"
  }
 },
 "nbformat": 4,
 "nbformat_minor": 5
}
