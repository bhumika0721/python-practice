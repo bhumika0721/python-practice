{
 "cells": [
  {
   "cell_type": "code",
   "execution_count": 2,
   "id": "e9429618-480b-43e7-9ab5-a3dc47a8cfb1",
   "metadata": {},
   "outputs": [
    {
     "name": "stdin",
     "output_type": "stream",
     "text": [
      "enter any number: 10\n"
     ]
    },
    {
     "name": "stdout",
     "output_type": "stream",
     "text": [
      "10 even number\n"
     ]
    }
   ],
   "source": [
    "# w.a.python program\n",
    "# if\n",
    "num=int(input(\"enter any number:\"))\n",
    "if num%2==0:\n",
    "    print(num,\"even number\")"
   ]
  },
  {
   "cell_type": "code",
   "execution_count": 3,
   "id": "093c6dde-5ed8-42a2-9383-b4c8c7a2931c",
   "metadata": {},
   "outputs": [
    {
     "name": "stdin",
     "output_type": "stream",
     "text": [
      "enter any number: 9\n"
     ]
    },
    {
     "name": "stdout",
     "output_type": "stream",
     "text": [
      "9 odd number\n"
     ]
    }
   ],
   "source": [
    "num=int(input(\"enter any number:\"))\n",
    "if num%2==0:\n",
    "    print(num,\"even number\")\n",
    "else:\n",
    "    print(num,\"odd number\")"
   ]
  },
  {
   "cell_type": "code",
   "execution_count": 4,
   "id": "a2495e57-7646-4a1b-b66e-cc2be58619d8",
   "metadata": {},
   "outputs": [
    {
     "name": "stdin",
     "output_type": "stream",
     "text": [
      "enter any age: 19\n"
     ]
    },
    {
     "name": "stdout",
     "output_type": "stream",
     "text": [
      "9 eligible for vote\n"
     ]
    }
   ],
   "source": [
    "# w.a. python program to check whether the user eligible to vote or not\n",
    "age=int(input(\"enter any age:\"))\n",
    "if age>=18 :\n",
    "    print(num,\"eligible for vote\")\n",
    "else:\n",
    "    print(num,\"not eligible\")"
   ]
  },
  {
   "cell_type": "code",
   "execution_count": 5,
   "id": "ea83491b-28e1-4298-b6ae-54dbdcf87618",
   "metadata": {},
   "outputs": [
    {
     "name": "stdin",
     "output_type": "stream",
     "text": [
      "enter your age: 19\n"
     ]
    },
    {
     "name": "stdout",
     "output_type": "stream",
     "text": [
      "19 eligible for vote\n"
     ]
    }
   ],
   "source": [
    "age=int(input(\"enter your age:\"))\n",
    "if age>=18 :\n",
    "    print(age,\"eligible for vote\")\n",
    "else:\n",
    "    print(age,\"not eligible\")"
   ]
  },
  {
   "cell_type": "code",
   "execution_count": 6,
   "id": "d24d557e-8656-451f-9cda-6d8cd9171c7e",
   "metadata": {},
   "outputs": [
    {
     "name": "stdin",
     "output_type": "stream",
     "text": [
      "enter num: 20\n"
     ]
    },
    {
     "name": "stdout",
     "output_type": "stream",
     "text": [
      "divisible\n"
     ]
    }
   ],
   "source": [
    "# w.a. python program to print a given no is divisible by 5 or not\n",
    "num=int(input(\"enter num:\"))\n",
    "if num%5==0:\n",
    "    print(\"divisible\")\n",
    "else:\n",
    "    print(\"not divisible\")"
   ]
  },
  {
   "cell_type": "code",
   "execution_count": 7,
   "id": "5aa2666b-c5d1-4d2d-99c1-4630d37ad963",
   "metadata": {},
   "outputs": [
    {
     "name": "stdin",
     "output_type": "stream",
     "text": [
      "enter any number: 23\n"
     ]
    },
    {
     "name": "stdout",
     "output_type": "stream",
     "text": [
      "divisible\n"
     ]
    }
   ],
   "source": [
    "# w.a.program to find last digit of any number is divisible by 3 or not \n",
    "num=int(input(\"enter any number:\"))\n",
    "last_digit=num%10\n",
    "if last_digit%3==0:\n",
    "    print(\"divisible\")\n",
    "else:\n",
    "    print(\"not divisible\")"
   ]
  },
  {
   "cell_type": "code",
   "execution_count": 8,
   "id": "7e251b0d-ef89-490d-be7a-8c99b4c3e3d5",
   "metadata": {},
   "outputs": [
    {
     "name": "stdin",
     "output_type": "stream",
     "text": [
      "enter per: 66\n"
     ]
    },
    {
     "name": "stdout",
     "output_type": "stream",
     "text": [
      "first division\n"
     ]
    }
   ],
   "source": [
    "# multiple condition \n",
    "per=int(input(\"enter per:\"))\n",
    "if per>=65:\n",
    "    print(\"first division\")\n",
    "elif per>=50:\n",
    "    print(\"second division\")\n",
    "elif per>=33:\n",
    "    print(\"third division\")\n",
    "else:\n",
    "    print(\"failed\")"
   ]
  },
  {
   "cell_type": "code",
   "execution_count": 9,
   "id": "a7e17937-674e-44ac-bbac-893934fcbafc",
   "metadata": {},
   "outputs": [
    {
     "name": "stdin",
     "output_type": "stream",
     "text": [
      "enter number 2\n",
      "enter number 4\n",
      "enter number 6\n"
     ]
    },
    {
     "name": "stdout",
     "output_type": "stream",
     "text": [
      "num3 is largest\n"
     ]
    }
   ],
   "source": [
    "# w.a. python program to find the largest among three number \n",
    "num1=int(input(\"enter number\"))\n",
    "num2=int(input(\"enter number\"))\n",
    "num3=int(input(\"enter number\"))\n",
    "if num1>num2 and num1>num3:\n",
    "    print(\"num1 is greater\")\n",
    "elif  num2>num1 and num2>num3:\n",
    "    print(\"num2 is largest\")\n",
    "else:\n",
    "    print(\"num3 is largest\")"
   ]
  },
  {
   "cell_type": "code",
   "execution_count": null,
   "id": "edba34f3-2c6d-4fab-ad4a-f44fd2f49991",
   "metadata": {},
   "outputs": [],
   "source": []
  }
 ],
 "metadata": {
  "kernelspec": {
   "display_name": "Python 3 (ipykernel)",
   "language": "python",
   "name": "python3"
  },
  "language_info": {
   "codemirror_mode": {
    "name": "ipython",
    "version": 3
   },
   "file_extension": ".py",
   "mimetype": "text/x-python",
   "name": "python",
   "nbconvert_exporter": "python",
   "pygments_lexer": "ipython3",
   "version": "3.12.7"
  }
 },
 "nbformat": 4,
 "nbformat_minor": 5
}
