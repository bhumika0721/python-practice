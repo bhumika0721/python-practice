{
 "cells": [
  {
   "cell_type": "code",
   "execution_count": 2,
   "id": "8bcdbb24-b80d-4887-9c16-e958768859af",
   "metadata": {},
   "outputs": [
    {
     "name": "stdout",
     "output_type": "stream",
     "text": [
      "{'name': 'bhumi', 'age': 20, 'quali': 'B.tect'}\n"
     ]
    }
   ],
   "source": [
    "# dictonary - collection of keyvalue pairs \n",
    "# curly braces with comma separator\n",
    "my_dict={'name':'bhumi', 'age':20 ,'quali':'B.tect'}\n",
    "print(my_dict)"
   ]
  },
  {
   "cell_type": "code",
   "execution_count": 4,
   "id": "ef16f53e-ee32-49bb-8a3f-0b70faedb318",
   "metadata": {},
   "outputs": [
    {
     "name": "stdout",
     "output_type": "stream",
     "text": [
      "{}\n"
     ]
    }
   ],
   "source": [
    "my_dict={}\n",
    "print(my_dict)"
   ]
  },
  {
   "cell_type": "code",
   "execution_count": 5,
   "id": "47423d01-c4dc-49ac-8962-399416937259",
   "metadata": {},
   "outputs": [
    {
     "ename": "SyntaxError",
     "evalue": "unterminated string literal (detected at line 3) (905646154.py, line 3)",
     "output_type": "error",
     "traceback": [
      "\u001b[1;36m  Cell \u001b[1;32mIn[5], line 3\u001b[1;36m\u001b[0m\n\u001b[1;33m    d={\"name\":[\"bca\",\"xyz\"], \"fees\":[2033,2200],\"subject\"':[\"da\",\"ds\"]}\u001b[0m\n\u001b[1;37m                                                         ^\u001b[0m\n\u001b[1;31mSyntaxError\u001b[0m\u001b[1;31m:\u001b[0m unterminated string literal (detected at line 3)\n"
     ]
    }
   ],
   "source": [
    "# iteration\n",
    "# direct iteration \n",
    "d={\"name\":[\"bca\",\"xyz\"], \"fees\":[2033,2200],\"subject\"':[\"da\",\"ds\"]}\n",
    "for i in d:\n",
    "    print(i,d[i])"
   ]
  },
  {
   "cell_type": "code",
   "execution_count": 7,
   "id": "9eda8cda-b922-41f0-83b3-61521f0ae3c3",
   "metadata": {},
   "outputs": [
    {
     "name": "stdout",
     "output_type": "stream",
     "text": [
      "quali\n",
      "age\n",
      "3\n",
      "<class 'dict'>\n",
      "2076469836864\n"
     ]
    }
   ],
   "source": [
    "d={'name':'xyz', 'age':20 ,'quali':'B.tect'}\n",
    "print(max(d))\n",
    "print(min(d))\n",
    "print(len(d))\n",
    "print(type(d))\n",
    "print(id(d))"
   ]
  },
  {
   "cell_type": "code",
   "execution_count": 8,
   "id": "8dfc1cb6-db28-4ace-a5ff-e9b30208fe74",
   "metadata": {},
   "outputs": [
    {
     "name": "stdout",
     "output_type": "stream",
     "text": [
      "abc\n"
     ]
    }
   ],
   "source": [
    "d={\"name\":[\"xyz\",\"abc\"],\"subject\":[\"da\",\"ds\"],\"fees\":[10000,20000]}\n",
    "print(d[\"name\"][1])\n"
   ]
  },
  {
   "cell_type": "code",
   "execution_count": 13,
   "id": "69528bc7-938a-4e78-b47e-5bdf1efc22b3",
   "metadata": {},
   "outputs": [
    {
     "name": "stdout",
     "output_type": "stream",
     "text": [
      "{'name': ['xyz', 'abc'], 'subject': ['da', 'ds'], 'fees': [10000, 20000], 'Name': 'cybrom'}\n"
     ]
    }
   ],
   "source": [
    "d={\"name\":[\"xyz\",\"abc\"],\"subject\":[\"da\",\"ds\"],\"fees\":[10000,20000]}\n",
    "d[\"Name\"]=\"cybrom\"\n",
    "print(d)\n"
   ]
  },
  {
   "cell_type": "code",
   "execution_count": 13,
   "id": "c06e6669-2324-4f89-8544-2c45b1037603",
   "metadata": {},
   "outputs": [
    {
     "name": "stdout",
     "output_type": "stream",
     "text": [
      "{1: 1, 2: 8, 3: 27, 4: 64, 5: 125}\n"
     ]
    }
   ],
   "source": [
    "l=[1,2,3,4,5]\n",
    "d={}\n",
    "for i in l:\n",
    "    d[i]=i**3\n",
    "print(d)    "
   ]
  },
  {
   "cell_type": "code",
   "execution_count": 15,
   "id": "4c96744f-e466-4385-aed0-6d526cf8168e",
   "metadata": {},
   "outputs": [
    {
     "name": "stdout",
     "output_type": "stream",
     "text": [
      "{1: 1, 2: 4, 3: 9, 4: 16, 5: 25}\n"
     ]
    }
   ],
   "source": [
    "d={}\n",
    "for i in range(1,6):\n",
    "    d[i]=i**2\n",
    "print(d)    "
   ]
  },
  {
   "cell_type": "code",
   "execution_count": 17,
   "id": "9f2c7108-9906-4f34-a349-be3d0c31c651",
   "metadata": {},
   "outputs": [
    {
     "name": "stdout",
     "output_type": "stream",
     "text": [
      "{'A': 1, 'B': 8, 'C': 27, 'D': 64, 'E': 125}\n"
     ]
    }
   ],
   "source": [
    "d={}\n",
    "for i in range(1,6):\n",
    "       d[chr(64+i)]=i**3\n",
    "print(d)    \n"
   ]
  },
  {
   "cell_type": "code",
   "execution_count": 18,
   "id": "b08f186e-6a98-484b-92d6-3b2c2d52a37f",
   "metadata": {},
   "outputs": [
    {
     "name": "stdout",
     "output_type": "stream",
     "text": [
      "{'red': 3, 'green': 2, 'brown': 1, 'yellow': 2}\n"
     ]
    }
   ],
   "source": [
    "l=[\"red\",\"green\",\"red\",\"brown\",\"green\",\"yellow\",\"red\",\"yellow\"]\n",
    "d={}\n",
    "for i in l:\n",
    "    if i in d:\n",
    "        d[i]+=1\n",
    "    else:\n",
    "        d[i]=1\n",
    "print(d)        \n",
    "    "
   ]
  },
  {
   "cell_type": "code",
   "execution_count": 1,
   "id": "47eecd5f-7dac-4165-a978-42d5e976997d",
   "metadata": {},
   "outputs": [
    {
     "name": "stdout",
     "output_type": "stream",
     "text": [
      "{'name': ['a', 'b', 'c'], 'subject': ['da', 'ds', 'de'], 'fees': [10000, 200000, 30000]}\n"
     ]
    }
   ],
   "source": [
    "# dictonary method-\n",
    "d={\"name\":[\"a\",\"b\",\"c\"],\"subject\":[\"da\",\"ds\",\"de\"],\"fees\":[10000,200000,30000]}\n",
    "print(d)"
   ]
  },
  {
   "cell_type": "code",
   "execution_count": 2,
   "id": "754e93c9-4f49-4402-a5fb-b7f92bb7678c",
   "metadata": {},
   "outputs": [
    {
     "name": "stdout",
     "output_type": "stream",
     "text": [
      "['a', 'b', 'c']\n",
      "a\n",
      "b\n",
      "c\n"
     ]
    }
   ],
   "source": [
    "d={\"name\":[\"a\",\"b\",\"c\"],\"subject\":[\"da\",\"ds\",\"de\"],\"fees\":[10000,200000,30000]}\n",
    "# dictobj.get(keys)\n",
    "print(d.get(\"name\"))\n",
    "for i in d.get(\"name\"):\n",
    "    print(i)"
   ]
  },
  {
   "cell_type": "code",
   "execution_count": 3,
   "id": "006567c8-20fc-4e08-83dd-313b26131b53",
   "metadata": {},
   "outputs": [
    {
     "name": "stdout",
     "output_type": "stream",
     "text": [
      "dict_keys(['name', 'subject', 'fees'])\n",
      "name\n",
      "subject\n",
      "fees\n"
     ]
    }
   ],
   "source": [
    "d={\"name\":[\"a\",\"b\",\"c\"],\"subject\":[\"da\",\"ds\",\"de\"],\"fees\":[10000,200000,30000]}  \n",
    "print(d.keys())\n",
    "for i in d.keys():\n",
    "    print(i)"
   ]
  },
  {
   "cell_type": "code",
   "execution_count": 6,
   "id": "0f23f264-e016-41c8-bcdc-8754a410ab7a",
   "metadata": {},
   "outputs": [
    {
     "name": "stdout",
     "output_type": "stream",
     "text": [
      "dict_values([['a', 'b', 'c'], ['da', 'ds', 'de'], [10000, 200000, 30000]])\n",
      "['a', 'b', 'c']\n",
      "['da', 'ds', 'de']\n",
      "[10000, 200000, 30000]\n"
     ]
    }
   ],
   "source": [
    "d={\"name\":[\"a\",\"b\",\"c\"],\"subject\":[\"da\",\"ds\",\"de\"],\"fees\":[10000,200000,30000]}\n",
    "print(d.values())\n",
    "for i in d.values():\n",
    "    print(i)\n"
   ]
  },
  {
   "cell_type": "code",
   "execution_count": 7,
   "id": "eb2d9927-61fb-4955-b801-3d51c75bb80b",
   "metadata": {},
   "outputs": [
    {
     "name": "stdout",
     "output_type": "stream",
     "text": [
      "dict_items([('name', ['a', 'b', 'c']), ('subject', ['da', 'ds', 'de']), ('fees', [10000, 200000, 30000])])\n",
      "name ['a', 'b', 'c']\n",
      "subject ['da', 'ds', 'de']\n",
      "fees [10000, 200000, 30000]\n",
      "['a', 'b', 'c']\n",
      "['da', 'ds', 'de']\n",
      "[10000, 200000, 30000]\n"
     ]
    }
   ],
   "source": [
    "d={\"name\":[\"a\",\"b\",\"c\"],\"subject\":[\"da\",\"ds\",\"de\"],\"fees\":[10000,200000,30000]}\n",
    "print(d.items())\n",
    "for i,j in d.items():\n",
    "    print(i,j)\n",
    "for i ,j in d.items():\n",
    "    print(j)\n",
    "    \n",
    "    "
   ]
  },
  {
   "cell_type": "code",
   "execution_count": 8,
   "id": "ddb03703-88c6-4749-98bd-1ae5f5818603",
   "metadata": {},
   "outputs": [
    {
     "name": "stdout",
     "output_type": "stream",
     "text": [
      "mean: 6.357142857142857\n",
      "[1, 2, 4, 4, 5, 5, 5, 7, 7, 8, 8, 10, 11, 12]\n",
      "median: 7\n",
      "{1: 1, 2: 1, 4: 2, 5: 3, 7: 2, 8: 2, 10: 1, 11: 1, 12: 1}\n",
      "5\n"
     ]
    }
   ],
   "source": [
    "l=[10,1,2,11,7,8,8,7,4,5,5,12,4,5]\n",
    "sum=0\n",
    "count=0\n",
    "for i in l:\n",
    "    sum=sum+i\n",
    "    count=count+1\n",
    "mean=sum/count \n",
    "print(\"mean:\",mean)\n",
    "sorted_l=sorted(l)\n",
    "print(sorted_l)\n",
    "n=len(sorted_l)\n",
    "m=n//2\n",
    "if n%2==0:\n",
    "   median=sorted_l[m]\n",
    "else:\n",
    "   median=(sorted_l[m-1]+sorted_l[m])\n",
    "print(\"median:\",median)\n",
    "d={}\n",
    "for i in sorted_l:\n",
    "    if i in d:\n",
    "        d[i]+=1\n",
    "    else:\n",
    "        d[i]=1\n",
    "print (d)\n",
    "max_value=max(d.values())\n",
    "for i,j in d.items():\n",
    "     if j==max_value:\n",
    "         print(i)\n",
    "    "
   ]
  },
  {
   "cell_type": "code",
   "execution_count": 1,
   "id": "225e4a11-4411-406d-8284-07a33fe29047",
   "metadata": {},
   "outputs": [
    {
     "name": "stdout",
     "output_type": "stream",
     "text": [
      "['a', 'b', 'c']\n",
      "{'subject': ['da', 'ds', 'de'], 'fees': [10000, 200000, 30000]}\n"
     ]
    }
   ],
   "source": [
    "d={\"name\":[\"a\",\"b\",\"c\"],\"subject\":[\"da\",\"ds\",\"de\"],\"fees\":[10000,200000,30000]}\n",
    "# pop()\n",
    "# dictobj.pop(key)\n",
    "print(d.pop(\"name\"))\n",
    "print(d)"
   ]
  },
  {
   "cell_type": "code",
   "execution_count": 2,
   "id": "cafeaef4-3b10-476e-a85b-987ecb46ede0",
   "metadata": {},
   "outputs": [
    {
     "name": "stdout",
     "output_type": "stream",
     "text": [
      "c\n",
      "{'name': ['a', 'b'], 'subject': ['da', 'ds', 'de'], 'fees': [10000, 200000, 30000]}\n"
     ]
    }
   ],
   "source": [
    "d={\"name\":[\"a\",\"b\",\"c\"],\"subject\":[\"da\",\"ds\",\"de\"],\"fees\":[10000,200000,30000]}\n",
    "print(d[\"name\"].pop())\n",
    "print(d)"
   ]
  },
  {
   "cell_type": "code",
   "execution_count": 3,
   "id": "dcd45f48-c19b-40be-91d1-80c6d0bf94e6",
   "metadata": {},
   "outputs": [
    {
     "name": "stdout",
     "output_type": "stream",
     "text": [
      "{'name': ['a', 'b', 'c'], 'fees': [10000, 200000, 30000]}\n"
     ]
    }
   ],
   "source": [
    "d={\"name\":[\"a\",\"b\",\"c\"],\"subject\":[\"da\",\"ds\",\"de\"],\"fees\":[10000,200000,30000]}\n",
    "# del dictobj.[key]\n",
    "del d[\"subject\"]\n",
    "print(d)"
   ]
  },
  {
   "cell_type": "code",
   "execution_count": 4,
   "id": "86286e80-20b0-4255-b7d8-4eb6f2ec35bd",
   "metadata": {},
   "outputs": [
    {
     "name": "stdout",
     "output_type": "stream",
     "text": [
      "{}\n"
     ]
    }
   ],
   "source": [
    "d={\"name\":[\"a\",\"b\",\"c\"],\"subject\":[\"da\",\"ds\",\"de\"],\"fees\":[10000,200000,30000]}\n",
    "d.clear()\n",
    "print(d)"
   ]
  },
  {
   "cell_type": "code",
   "execution_count": 6,
   "id": "cd4240d5-0dc1-42ee-9eac-b8028c6c833c",
   "metadata": {},
   "outputs": [
    {
     "name": "stdout",
     "output_type": "stream",
     "text": [
      "{'name': ['a', 'b', 'c'], 'subject': ['da', 'ds', 'de'], 'fees': [10000, 200000, 30000], 'city': ['bpl', 'jbp', 'gwl'], 'pincode': [124, 167, 4578]}\n"
     ]
    }
   ],
   "source": [
    "d={\"name\":[\"a\",\"b\",\"c\"],\"subject\":[\"da\",\"ds\",\"de\"],\"fees\":[10000,200000,30000]}\n",
    "# update()\n",
    "# dictobj.updte(dictonry/variable=values)\n",
    "d.update({\"city\":[\"bpl\",\"jbp\",\"gwl\"],\"pincode\":[124,167,4578]})\n",
    "print(d)         "
   ]
  },
  {
   "cell_type": "code",
   "execution_count": 7,
   "id": "36a4ae78-be6e-410e-bd2c-d17d43a60478",
   "metadata": {},
   "outputs": [
    {
     "name": "stdout",
     "output_type": "stream",
     "text": [
      "{'name': ['a', 'b', 'c'], 'subject': ['da', 'ds', 'de'], 'fees': [10000, 200000, 30000], 'city': ['bpl', 'jbp', 'gwl'], 'pincode': [124, 167, 4578]}\n"
     ]
    }
   ],
   "source": [
    "d={\"name\":[\"a\",\"b\",\"c\"],\"subject\":[\"da\",\"ds\",\"de\"],\"fees\":[10000,200000,30000]}\n",
    "d1=({\"city\":[\"bpl\",\"jbp\",\"gwl\"],\"pincode\":[124,167,4578]})\n",
    "d.update(d1)\n",
    "print(d)"
   ]
  },
  {
   "cell_type": "code",
   "execution_count": 9,
   "id": "47186a8f-f3a1-4859-bdf9-7abfe4907ed0",
   "metadata": {},
   "outputs": [
    {
     "name": "stdout",
     "output_type": "stream",
     "text": [
      "{'name': ['a', 'b', 'c'], 'subject': ['da', 'ds', 'de'], 'fees': [10000, 200000, 30000], 'city': ['bpl', 'jbp', 'gwl']}\n"
     ]
    }
   ],
   "source": [
    "d={\"name\":[\"a\",\"b\",\"c\"],\"subject\":[\"da\",\"ds\",\"de\"],\"fees\":[10000,200000,30000]}\n",
    "d.update(city=[\"bpl\",\"jbp\",\"gwl\"])\n",
    "print(d)"
   ]
  },
  {
   "cell_type": "code",
   "execution_count": 10,
   "id": "f0dae11a-1e78-41b2-a05e-a24f0660a77b",
   "metadata": {},
   "outputs": [
    {
     "name": "stdout",
     "output_type": "stream",
     "text": [
      "{'name': ['a', 'b', 'c'], 'subject': ['da', 'ds', 'de'], 'fees': [1000, 2000, 2300]}\n"
     ]
    }
   ],
   "source": [
    "# dict()-- to create a new dictionary\n",
    "d=dict(name=[\"a\",\"b\",\"c\"],subject=[\"da\",\"ds\",\"de\"],fees=[1000,2000,2300])\n",
    "print(d)"
   ]
  },
  {
   "cell_type": "code",
   "execution_count": 12,
   "id": "1a5517f5-ab34-4d68-bcbd-19bf16123271",
   "metadata": {},
   "outputs": [
    {
     "name": "stdout",
     "output_type": "stream",
     "text": [
      "{1: 1, 3: 9, 5: 25, 7: 49, 9: 81, 11: 121}\n",
      "{1: 1, 3: 9, 5: 25, 7: 49, 9: 81, 11: 121}\n"
     ]
    }
   ],
   "source": [
    "# dictonary comprehension\n",
    "# {1:1,3:9,5:25,7:49,9:81,11:121}\n",
    "d={}\n",
    "for i in range(1,12 ,2):\n",
    "     d[i]=i**2\n",
    "print(d)\n",
    "print({i:i**2 for i in range (1,12,2)})\n"
   ]
  },
  {
   "cell_type": "code",
   "execution_count": null,
   "id": "c9e9acb6-1b71-4e8b-8cd1-55839c4587f6",
   "metadata": {},
   "outputs": [],
   "source": [
    "# list"
   ]
  }
 ],
 "metadata": {
  "kernelspec": {
   "display_name": "Python 3 (ipykernel)",
   "language": "python",
   "name": "python3"
  },
  "language_info": {
   "codemirror_mode": {
    "name": "ipython",
    "version": 3
   },
   "file_extension": ".py",
   "mimetype": "text/x-python",
   "name": "python",
   "nbconvert_exporter": "python",
   "pygments_lexer": "ipython3",
   "version": "3.12.7"
  }
 },
 "nbformat": 4,
 "nbformat_minor": 5
}
