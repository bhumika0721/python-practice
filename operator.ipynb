{
 "cells": [
  {
   "cell_type": "code",
   "execution_count": 1,
   "id": "2fbfb7a4-addf-45cd-84c0-c6cfb77866ec",
   "metadata": {},
   "outputs": [
    {
     "name": "stdout",
     "output_type": "stream",
     "text": [
      "0\n"
     ]
    }
   ],
   "source": [
    "x=10\n",
    "y=20\n",
    "print(x & y)"
   ]
  },
  {
   "cell_type": "code",
   "execution_count": 2,
   "id": "87e6c6eb-7dc0-447b-a437-86ca6c4411d7",
   "metadata": {},
   "outputs": [
    {
     "name": "stdout",
     "output_type": "stream",
     "text": [
      "30\n"
     ]
    }
   ],
   "source": [
    "x=10\n",
    "y=20\n",
    "print(x | y)"
   ]
  },
  {
   "cell_type": "code",
   "execution_count": 3,
   "id": "b12af58c-6552-48c9-a06f-a07fcd5489e3",
   "metadata": {},
   "outputs": [
    {
     "name": "stdout",
     "output_type": "stream",
     "text": [
      "-31\n"
     ]
    }
   ],
   "source": [
    "x=10\n",
    "y=20\n",
    "print(~(x | y))"
   ]
  },
  {
   "cell_type": "code",
   "execution_count": 1,
   "id": "70eaa803-85f1-4d31-9ca7-42d577739283",
   "metadata": {},
   "outputs": [
    {
     "name": "stdout",
     "output_type": "stream",
     "text": [
      "addition:  7\n",
      "differecne:  3\n",
      "multi:  10\n",
      "2.5\n",
      "2\n",
      "1\n",
      "25\n"
     ]
    }
   ],
   "source": [
    "a=5\n",
    "b=2\n",
    "print(\"addition: \",a+b)\n",
    "print(\"differecne: \",a-b)\n",
    "print(\"multi: \",a*b)\n",
    "print(a/b)\n",
    "print(a//b)\n",
    "print(a%b)\n",
    "print(a**b)"
   ]
  },
  {
   "cell_type": "code",
   "execution_count": 12,
   "id": "be452a4d-9100-42ba-9db6-b2b2f9a38edf",
   "metadata": {},
   "outputs": [
    {
     "name": "stdout",
     "output_type": "stream",
     "text": [
      "0\n",
      "0\n"
     ]
    }
   ],
   "source": [
    "# assigment =,+=,*=,/*\n",
    "a=10\n",
    "b=8\n",
    "a+=10\n",
    "b-=8\n",
    "a*=b\n",
    "print(a)\n",
    "print(b)"
   ]
  },
  {
   "cell_type": "code",
   "execution_count": 4,
   "id": "89b3aa38-8273-4233-88c7-0aab6cbe713a",
   "metadata": {},
   "outputs": [
    {
     "name": "stdout",
     "output_type": "stream",
     "text": [
      "False\n",
      "True\n"
     ]
    }
   ],
   "source": [
    "# comparison operator\n",
    "a=10\n",
    "b=8\n",
    "print(a==b)\n",
    "print(a!=b)\n"
   ]
  },
  {
   "cell_type": "code",
   "execution_count": 7,
   "id": "8d00bc85-9326-4dd6-82b6-3952fb299fe7",
   "metadata": {},
   "outputs": [
    {
     "name": "stdout",
     "output_type": "stream",
     "text": [
      "True\n",
      "True\n",
      "False\n"
     ]
    }
   ],
   "source": [
    "# lodical operator\n",
    "a=20\n",
    "b=8\n",
    "c=12\n",
    "print(a>b and not b>c)\n",
    "print (a>b or b>c)\n",
    "print (a>b and b>c)"
   ]
  },
  {
   "cell_type": "code",
   "execution_count": 8,
   "id": "fd1e1cdc-47db-4d21-89fc-5a2ea177dd25",
   "metadata": {},
   "outputs": [
    {
     "name": "stdout",
     "output_type": "stream",
     "text": [
      "140730264529624\n",
      "140730264529560\n",
      "False\n",
      "True\n",
      "False\n",
      "True\n"
     ]
    }
   ],
   "source": [
    "# identity operator \n",
    "# id function returns memory address\n",
    "a=10\n",
    "b=8\n",
    "print(id(a))\n",
    "print(id(b))\n",
    "print(a is b)\n",
    "print(a is not b)\n",
    "print(a==b)\n",
    "print(a!=b)\n"
   ]
  },
  {
   "cell_type": "code",
   "execution_count": 9,
   "id": "fdfd6788-da3c-41cc-9113-2ccc4c8ea33c",
   "metadata": {},
   "outputs": [
    {
     "name": "stdout",
     "output_type": "stream",
     "text": [
      "True\n",
      "True\n",
      "False\n"
     ]
    }
   ],
   "source": [
    "# membership operator- in not in\n",
    "a=\"cybrom\"\n",
    "print (\"y\" in a)\n",
    "print (\"C\" not in a)\n",
    "print (\"z\" in a)"
   ]
  },
  {
   "cell_type": "code",
   "execution_count": 11,
   "id": "f8e5e95d-3b9c-409a-af4d-f07d21d92de7",
   "metadata": {},
   "outputs": [
    {
     "name": "stdout",
     "output_type": "stream",
     "text": [
      "0b1010\n",
      "0b1000\n",
      "0b1000\n",
      "8\n",
      "0b1010\n",
      "10\n",
      "0b10\n",
      "2\n"
     ]
    }
   ],
   "source": [
    "# bitwise operator |, &,^\n",
    "a=10\n",
    "b=8\n",
    "print (bin(a))\n",
    "print(bin(b))\n",
    "print(bin(a&b))\n",
    "print(a&b)\n",
    "print(bin(a|b))\n",
    "print(a|b)\n",
    "print(bin(a^b))\n",
    "print(a^b)"
   ]
  },
  {
   "cell_type": "code",
   "execution_count": null,
   "id": "7a8856e3-ff70-41b5-96c9-b051a115b322",
   "metadata": {},
   "outputs": [],
   "source": [
    "# data type is a characteristic of variable or an object that  specifies the type of data it can hold"
   ]
  }
 ],
 "metadata": {
  "kernelspec": {
   "display_name": "Python 3 (ipykernel)",
   "language": "python",
   "name": "python3"
  },
  "language_info": {
   "codemirror_mode": {
    "name": "ipython",
    "version": 3
   },
   "file_extension": ".py",
   "mimetype": "text/x-python",
   "name": "python",
   "nbconvert_exporter": "python",
   "pygments_lexer": "ipython3",
   "version": "3.12.7"
  }
 },
 "nbformat": 4,
 "nbformat_minor": 5
}
